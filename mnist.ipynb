{
 "cells": [
  {
   "cell_type": "markdown",
   "source": [
    "# MNIST with custom framework"
   ],
   "metadata": {
    "collapsed": false
   },
   "id": "4d8a81281283dfd0"
  },
  {
   "cell_type": "code",
   "execution_count": 1,
   "outputs": [],
   "source": [
    "import numpy as np\n",
    "import matplotlib.pyplot as plt\n",
    "from new import *\n",
    "from losses import *"
   ],
   "metadata": {
    "collapsed": false,
    "ExecuteTime": {
     "end_time": "2023-09-17T22:58:20.595761600Z",
     "start_time": "2023-09-17T22:58:20.237095500Z"
    }
   },
   "id": "f55ea1701f0de129"
  },
  {
   "cell_type": "markdown",
   "source": [
    "## Load MNIST dataset"
   ],
   "metadata": {
    "collapsed": false
   },
   "id": "a6514a2d2ddab8ed"
  },
  {
   "cell_type": "code",
   "execution_count": 2,
   "id": "initial_id",
   "metadata": {
    "collapsed": true,
    "ExecuteTime": {
     "end_time": "2023-09-17T22:58:22.702123600Z",
     "start_time": "2023-09-17T22:58:20.598770200Z"
    }
   },
   "outputs": [],
   "source": [
    "import tensorflow as tf\n",
    "(train_x, train_y), (test_x, test_y) = tf.keras.datasets.mnist.load_data()"
   ]
  },
  {
   "cell_type": "code",
   "execution_count": 3,
   "outputs": [],
   "source": [
    "x_train = np.array((train_x / 255), dtype=np.float32).reshape(train_x.shape[0], -1)\n",
    "x_test = np.array((test_x / 255), dtype=np.float32).reshape(test_x.shape[0], -1)\n",
    "y_train = np.array(np.eye(10)[train_y], dtype=np.float32)\n",
    "y_test = np.array(np.eye(10)[test_y], dtype=np.float32)"
   ],
   "metadata": {
    "collapsed": false,
    "ExecuteTime": {
     "end_time": "2023-09-17T22:58:22.911795400Z",
     "start_time": "2023-09-17T22:58:22.702123600Z"
    }
   },
   "id": "a61ccda9464d3bd2"
  },
  {
   "cell_type": "markdown",
   "source": [
    "## Define the model"
   ],
   "metadata": {
    "collapsed": false
   },
   "id": "868617d1571dadf7"
  },
  {
   "cell_type": "code",
   "execution_count": 4,
   "outputs": [],
   "source": [
    "class BobNet(Module):\n",
    "    def __init__(self):\n",
    "        self.l1 = Linear(784, 16)\n",
    "        self.a1 = Sigmoid()\n",
    "        self.l2 = Linear(16, 10)\n",
    "        self.a2 = Softmax()\n",
    "    def forward(self, inputs: np.ndarray):\n",
    "        out = self.l1.forward(inputs)\n",
    "        out = self.a1.forward(out)\n",
    "        out = self.l2.forward(out)\n",
    "        out = self.a2.forward(out)\n",
    "        return out\n",
    "    def parameters(self):\n",
    "        params = []\n",
    "        params.extend(self.l1.parameters())\n",
    "        params.extend(self.l2.parameters())\n",
    "        return params\n",
    "    def zero_grad(self):\n",
    "        for p in self.parameters():\n",
    "            p.grad = 0.0\n",
    "    def update(self, lr=0.01):\n",
    "        for p in self.parameters():\n",
    "            p.data += -lr * p.grad"
   ],
   "metadata": {
    "collapsed": false,
    "ExecuteTime": {
     "end_time": "2023-09-17T22:58:22.917265100Z",
     "start_time": "2023-09-17T22:58:22.915302300Z"
    }
   },
   "id": "39476682d32293b1"
  },
  {
   "cell_type": "code",
   "execution_count": 5,
   "outputs": [
    {
     "name": "stdout",
     "output_type": "stream",
     "text": [
      "number of parameters:  12730\n"
     ]
    }
   ],
   "source": [
    "model = BobNet()\n",
    "print(\"number of parameters: \", len(model.parameters()))"
   ],
   "metadata": {
    "collapsed": false,
    "ExecuteTime": {
     "end_time": "2023-09-17T22:58:23.030902500Z",
     "start_time": "2023-09-17T22:58:22.917265100Z"
    }
   },
   "id": "d4b9eb7f9725b528"
  },
  {
   "cell_type": "markdown",
   "source": [
    "## Training"
   ],
   "metadata": {
    "collapsed": false
   },
   "id": "13f9c59abb2f0978"
  },
  {
   "cell_type": "code",
   "execution_count": 6,
   "outputs": [],
   "source": [
    "loss_function = CrossEntropyLoss()\n",
    "batch_size = 32\n",
    "losses = []"
   ],
   "metadata": {
    "collapsed": false,
    "ExecuteTime": {
     "end_time": "2023-09-17T22:58:23.030902500Z",
     "start_time": "2023-09-17T22:58:23.027274700Z"
    }
   },
   "id": "7df47f5e1c24879e"
  },
  {
   "cell_type": "markdown",
   "source": [
    "#### Create and resize sample batch"
   ],
   "metadata": {
    "collapsed": false
   },
   "id": "ce4eb01edc69adff"
  },
  {
   "cell_type": "code",
   "execution_count": 7,
   "outputs": [
    {
     "name": "stdout",
     "output_type": "stream",
     "text": [
      "input indexes:  [ 8134 15722 14495 11013 37088 24108 37135 44050 25038 40708   907  5011\n",
      " 27462 52204 39709 58872 24111 14534 40538  6657 41026 25852 37697 34133\n",
      " 21046 20806 53422  5667 32737 39272 53122 12157]\n",
      "input shape:  (32, 784)\n"
     ]
    }
   ],
   "source": [
    "sample_indices = np.random.randint(0, x_train.shape[0], size=batch_size)\n",
    "print(\"input indexes: \", sample_indices)\n",
    "xs = x_train[sample_indices]\n",
    "print(\"input shape: \", xs.shape)"
   ],
   "metadata": {
    "collapsed": false,
    "ExecuteTime": {
     "end_time": "2023-09-17T22:58:23.036878500Z",
     "start_time": "2023-09-17T22:58:23.030902500Z"
    }
   },
   "id": "564486f0a7147aaa"
  },
  {
   "cell_type": "code",
   "execution_count": 8,
   "outputs": [
    {
     "name": "stdout",
     "output_type": "stream",
     "text": [
      "targets[0]:  [Value(data=1.0, grad=0.0) Value(data=0.0, grad=0.0)\n",
      " Value(data=0.0, grad=0.0) Value(data=0.0, grad=0.0)\n",
      " Value(data=0.0, grad=0.0) Value(data=0.0, grad=0.0)\n",
      " Value(data=0.0, grad=0.0) Value(data=0.0, grad=0.0)\n",
      " Value(data=0.0, grad=0.0) Value(data=0.0, grad=0.0)]\n",
      "output shape:  (32, 10)\n"
     ]
    }
   ],
   "source": [
    "ys = np.vectorize(Value)(y_train[sample_indices])\n",
    "print(\"targets[0]: \", ys[0])\n",
    "print(\"output shape: \", ys.shape)"
   ],
   "metadata": {
    "collapsed": false,
    "ExecuteTime": {
     "end_time": "2023-09-17T22:58:23.041487200Z",
     "start_time": "2023-09-17T22:58:23.036878500Z"
    }
   },
   "id": "7f501a7c83ec063e"
  },
  {
   "cell_type": "markdown",
   "source": [
    "### Forward"
   ],
   "metadata": {
    "collapsed": false
   },
   "id": "8d1a7461de8f8f77"
  },
  {
   "cell_type": "code",
   "execution_count": 9,
   "outputs": [
    {
     "name": "stdout",
     "output_type": "stream",
     "text": [
      "output shape:  (32, 10)\n",
      "output[0]:  [Value(data=0.11611307689191049, grad=0.0)\n",
      " Value(data=0.08808458078187645, grad=0.0)\n",
      " Value(data=0.10548399297965276, grad=0.0)\n",
      " Value(data=0.0848044305851629, grad=0.0)\n",
      " Value(data=0.11550225965622847, grad=0.0)\n",
      " Value(data=0.12042142874019568, grad=0.0)\n",
      " Value(data=0.09051284127734127, grad=0.0)\n",
      " Value(data=0.09391720711982289, grad=0.0)\n",
      " Value(data=0.09808012716709583, grad=0.0)\n",
      " Value(data=0.08708005480071335, grad=0.0)]\n"
     ]
    }
   ],
   "source": [
    "out = np.array([model.forward(x) for x in xs])\n",
    "print(\"output shape: \", out.shape)\n",
    "print(\"output[0]: \", out[0])"
   ],
   "metadata": {
    "collapsed": false,
    "ExecuteTime": {
     "end_time": "2023-09-17T22:58:32.660581500Z",
     "start_time": "2023-09-17T22:58:23.041487200Z"
    }
   },
   "id": "1c6b3297a912df02"
  },
  {
   "cell_type": "code",
   "execution_count": 10,
   "outputs": [
    {
     "data": {
      "text/plain": "array([Value(data=1.0, grad=0.0), Value(data=0.0, grad=0.0),\n       Value(data=0.0, grad=0.0), Value(data=0.0, grad=0.0),\n       Value(data=0.0, grad=0.0), Value(data=0.0, grad=0.0),\n       Value(data=0.0, grad=0.0), Value(data=0.0, grad=0.0),\n       Value(data=0.0, grad=0.0), Value(data=0.0, grad=0.0)], dtype=object)"
     },
     "execution_count": 10,
     "metadata": {},
     "output_type": "execute_result"
    }
   ],
   "source": [
    "ys[0]"
   ],
   "metadata": {
    "collapsed": false,
    "ExecuteTime": {
     "end_time": "2023-09-17T22:58:32.664101Z",
     "start_time": "2023-09-17T22:58:32.657381700Z"
    }
   },
   "id": "52a7d814c511270"
  },
  {
   "cell_type": "code",
   "execution_count": 11,
   "outputs": [
    {
     "name": "stdout",
     "output_type": "stream",
     "text": [
      "Value(data=2.27961184796263, grad=0.0)\n"
     ]
    }
   ],
   "source": [
    "loss = loss_function.forward(out, ys)\n",
    "losses.append(loss.data)\n",
    "print(loss)"
   ],
   "metadata": {
    "collapsed": false,
    "ExecuteTime": {
     "end_time": "2023-09-17T22:58:32.668795200Z",
     "start_time": "2023-09-17T22:58:32.664101Z"
    }
   },
   "id": "ddceba0497050de7"
  },
  {
   "cell_type": "markdown",
   "source": [
    "### Backward"
   ],
   "metadata": {
    "collapsed": false
   },
   "id": "4c5e2b47ddb1deb9"
  },
  {
   "cell_type": "code",
   "execution_count": 12,
   "outputs": [],
   "source": [
    "model.zero_grad()\n",
    "loss.backward()"
   ],
   "metadata": {
    "collapsed": false,
    "ExecuteTime": {
     "end_time": "2023-09-17T22:58:33.611115700Z",
     "start_time": "2023-09-17T22:58:32.668795200Z"
    }
   },
   "id": "61abf6174c09bc3e"
  },
  {
   "cell_type": "markdown",
   "source": [
    "### Update"
   ],
   "metadata": {
    "collapsed": false
   },
   "id": "e246d8a5bfd34823"
  },
  {
   "cell_type": "code",
   "execution_count": 13,
   "outputs": [],
   "source": [
    "model.update(lr=0.1)"
   ],
   "metadata": {
    "collapsed": false,
    "ExecuteTime": {
     "end_time": "2023-09-17T22:58:33.618735900Z",
     "start_time": "2023-09-17T22:58:33.611115700Z"
    }
   },
   "id": "6f7e6149c3fb3f53"
  },
  {
   "cell_type": "code",
   "execution_count": 14,
   "outputs": [
    {
     "name": "stdout",
     "output_type": "stream",
     "text": [
      "2.31286747619526\n"
     ]
    }
   ],
   "source": [
    "for i in range(1):\n",
    "    sample_indices = np.random.randint(0, x_train.shape[0], size=batch_size)\n",
    "    xs = x_train[sample_indices].reshape(x_train[sample_indices].shape[0], -1)\n",
    "    ys = y_train[sample_indices]\n",
    "    out = np.array([model.forward(x) for x in xs])\n",
    "    loss = loss_function.forward(out, ys)\n",
    "    losses.append(loss.data)\n",
    "    model.zero_grad()\n",
    "    loss.backward()\n",
    "    model.update(lr=0.1)\n",
    "    print(loss.data)"
   ],
   "metadata": {
    "collapsed": false,
    "ExecuteTime": {
     "end_time": "2023-09-17T22:58:44.498902800Z",
     "start_time": "2023-09-17T22:58:33.618735900Z"
    }
   },
   "id": "95afb6979cad7f42"
  },
  {
   "cell_type": "code",
   "execution_count": 15,
   "outputs": [
    {
     "name": "stdout",
     "output_type": "stream",
     "text": [
      "[2.27961184796263, 2.31286747619526]\n"
     ]
    },
    {
     "data": {
      "text/plain": "[<matplotlib.lines.Line2D at 0x1e90e8d2b90>]"
     },
     "execution_count": 15,
     "metadata": {},
     "output_type": "execute_result"
    },
    {
     "data": {
      "text/plain": "<Figure size 640x480 with 1 Axes>",
      "image/png": "[encoded data removed]"
     },
     "metadata": {},
     "output_type": "display_data"
    }
   ],
   "source": [
    "print(losses)\n",
    "plt.plot(losses)"
   ],
   "metadata": {
    "collapsed": false,
    "ExecuteTime": {
     "end_time": "2023-09-17T22:58:44.604828400Z",
     "start_time": "2023-09-17T22:58:44.498902800Z"
    }
   },
   "id": "c589e6e6f687b453"
  }
 ],
 "metadata": {
  "kernelspec": {
   "display_name": "Python 3",
   "language": "python",
   "name": "python3"
  },
  "language_info": {
   "codemirror_mode": {
    "name": "ipython",
    "version": 2
   },
   "file_extension": ".py",
   "mimetype": "text/x-python",
   "name": "python",
   "nbconvert_exporter": "python",
   "pygments_lexer": "ipython2",
   "version": "2.7.6"
  }
 },
 "nbformat": 4,
 "nbformat_minor": 5
}
