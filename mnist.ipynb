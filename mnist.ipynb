{
 "cells": [
  {
   "cell_type": "markdown",
   "source": [
    "# MNIST with custom framework"
   ],
   "metadata": {
    "collapsed": false
   },
   "id": "4d8a81281283dfd0"
  },
  {
   "cell_type": "code",
   "execution_count": 1,
   "outputs": [],
   "source": [
    "from centigrad.nn import Module, Linear, ReLU, Softmax\n",
    "from centigrad.losses import CrossEntropyLoss\n",
    "import numpy as np\n",
    "import matplotlib.pyplot as plt"
   ],
   "metadata": {
    "collapsed": false,
    "ExecuteTime": {
     "end_time": "2023-09-19T10:42:35.338993500Z",
     "start_time": "2023-09-19T10:42:34.160717500Z"
    }
   },
   "id": "f55ea1701f0de129"
  },
  {
   "cell_type": "markdown",
   "source": [
    "## Load MNIST dataset"
   ],
   "metadata": {
    "collapsed": false
   },
   "id": "a6514a2d2ddab8ed"
  },
  {
   "cell_type": "code",
   "execution_count": 2,
   "id": "initial_id",
   "metadata": {
    "collapsed": true,
    "ExecuteTime": {
     "end_time": "2023-09-19T10:42:42.037618100Z",
     "start_time": "2023-09-19T10:42:35.338993500Z"
    }
   },
   "outputs": [],
   "source": [
    "import tensorflow as tf\n",
    "(train_x, train_y), (test_x, test_y) = tf.keras.datasets.mnist.load_data()"
   ]
  },
  {
   "cell_type": "code",
   "execution_count": 3,
   "outputs": [],
   "source": [
    "x_train = np.array((train_x / 255), dtype=np.float32).reshape(train_x.shape[0], -1)\n",
    "x_test = np.array((test_x / 255), dtype=np.float32).reshape(test_x.shape[0], -1)\n",
    "y_train = np.array(np.eye(10)[train_y], dtype=np.float32)\n",
    "y_test = np.array(np.eye(10)[test_y], dtype=np.float32)"
   ],
   "metadata": {
    "collapsed": false,
    "ExecuteTime": {
     "end_time": "2023-09-19T10:42:42.248931300Z",
     "start_time": "2023-09-19T10:42:42.037618100Z"
    }
   },
   "id": "a61ccda9464d3bd2"
  },
  {
   "cell_type": "markdown",
   "source": [
    "## Define the model"
   ],
   "metadata": {
    "collapsed": false
   },
   "id": "868617d1571dadf7"
  },
  {
   "cell_type": "code",
   "execution_count": 4,
   "outputs": [],
   "source": [
    "class NN(Module):\n",
    "    def __init__(self):\n",
    "        self.l1 = Linear(784, 16, low=-1.0)\n",
    "        self.a1 = ReLU()\n",
    "        self.l2 = Linear(16, 10, low=-1.0)\n",
    "        self.a2 = Softmax()\n",
    "    def forward(self, inputs: np.ndarray):\n",
    "        out = self.l1.forward(inputs)\n",
    "        out = self.a1.forward(out)\n",
    "        out = self.l2.forward(out)\n",
    "        out = self.a2.forward(out)\n",
    "        return out\n",
    "    def parameters(self):\n",
    "        params = []\n",
    "        params.extend(self.l1.parameters())\n",
    "        params.extend(self.l2.parameters())\n",
    "        return params\n",
    "    def zero_grad(self):\n",
    "        for p in self.parameters():\n",
    "            p.grad = 0.0\n",
    "    def update(self, lr=0.01):\n",
    "        for p in self.parameters():\n",
    "            p.data += -lr * p.grad"
   ],
   "metadata": {
    "collapsed": false,
    "ExecuteTime": {
     "end_time": "2023-09-19T10:42:42.257961700Z",
     "start_time": "2023-09-19T10:42:42.254954200Z"
    }
   },
   "id": "39476682d32293b1"
  },
  {
   "cell_type": "code",
   "execution_count": 5,
   "outputs": [],
   "source": [
    "model = NN()\n",
    "loss_function = CrossEntropyLoss()\n",
    "batch_size = 32\n",
    "losses, accuracies = [], []"
   ],
   "metadata": {
    "collapsed": false,
    "ExecuteTime": {
     "end_time": "2023-09-19T10:42:42.386783300Z",
     "start_time": "2023-09-19T10:42:42.257961700Z"
    }
   },
   "id": "285cbd335534a02"
  },
  {
   "cell_type": "markdown",
   "source": [
    "## Training"
   ],
   "metadata": {
    "collapsed": false
   },
   "id": "13f9c59abb2f0978"
  },
  {
   "cell_type": "markdown",
   "source": [
    "#### Create and resize sample batch"
   ],
   "metadata": {
    "collapsed": false
   },
   "id": "ce4eb01edc69adff"
  },
  {
   "cell_type": "code",
   "execution_count": 6,
   "outputs": [
    {
     "name": "stdout",
     "output_type": "stream",
     "text": [
      "input indexes:  [39219  1794 58972 28548  1977 40329 54436  1753 19598 30548 42916 44581\n",
      "  8894 13247 49575 54351  9946 50306  2827 58611 43971 14476  9320 29591\n",
      " 44698 39697 50000 29356 32157 29043 47746 32654]\n",
      "input shape:  (32, 784)\n"
     ]
    }
   ],
   "source": [
    "sample_indices = np.random.randint(0, x_train.shape[0], size=batch_size)\n",
    "print(\"input indexes: \", sample_indices)\n",
    "xs = x_train[sample_indices]\n",
    "print(\"input shape: \", xs.shape)"
   ],
   "metadata": {
    "collapsed": false,
    "ExecuteTime": {
     "end_time": "2023-09-19T10:42:42.400491300Z",
     "start_time": "2023-09-19T10:42:42.386783300Z"
    }
   },
   "id": "564486f0a7147aaa"
  },
  {
   "cell_type": "code",
   "execution_count": 7,
   "outputs": [
    {
     "name": "stdout",
     "output_type": "stream",
     "text": [
      "targets[0]:  [0. 0. 0. 0. 0. 0. 0. 0. 1. 0.]\n",
      "output shape:  (32, 10)\n"
     ]
    }
   ],
   "source": [
    "ys = y_train[sample_indices]\n",
    "print(\"targets[0]: \", ys[0])\n",
    "print(\"output shape: \", ys.shape)"
   ],
   "metadata": {
    "collapsed": false,
    "ExecuteTime": {
     "end_time": "2023-09-19T10:42:42.415502200Z",
     "start_time": "2023-09-19T10:42:42.393982700Z"
    }
   },
   "id": "7f501a7c83ec063e"
  },
  {
   "cell_type": "markdown",
   "source": [
    "### Forward"
   ],
   "metadata": {
    "collapsed": false
   },
   "id": "8d1a7461de8f8f77"
  },
  {
   "cell_type": "code",
   "execution_count": 8,
   "outputs": [
    {
     "name": "stdout",
     "output_type": "stream",
     "text": [
      "output shape:  (32, 10)\n",
      "output[0]:  [Value(data=5.424667192801418e-09, grad=0.0)\n",
      " Value(data=3.728810295013344e-14, grad=0.0)\n",
      " Value(data=5.4364193063261604e-08, grad=0.0)\n",
      " Value(data=0.00014534874372139025, grad=0.0)\n",
      " Value(data=8.73702056632815e-05, grad=0.0)\n",
      " Value(data=2.7883717888383848e-08, grad=0.0)\n",
      " Value(data=0.9888782556274807, grad=0.0)\n",
      " Value(data=0.0013258795681526292, grad=0.0)\n",
      " Value(data=0.009558229513778556, grad=0.0)\n",
      " Value(data=4.828668588084224e-06, grad=0.0)]\n"
     ]
    }
   ],
   "source": [
    "out = np.array([model.forward(x) for x in xs])\n",
    "print(\"output shape: \", out.shape)\n",
    "print(\"output[0]: \", out[0])"
   ],
   "metadata": {
    "collapsed": false,
    "ExecuteTime": {
     "end_time": "2023-09-19T10:42:53.774401Z",
     "start_time": "2023-09-19T10:42:42.400491300Z"
    }
   },
   "id": "1c6b3297a912df02"
  },
  {
   "cell_type": "code",
   "execution_count": 9,
   "outputs": [
    {
     "data": {
      "text/plain": "array([0., 0., 0., 0., 0., 0., 0., 0., 1., 0.], dtype=float32)"
     },
     "execution_count": 9,
     "metadata": {},
     "output_type": "execute_result"
    }
   ],
   "source": [
    "ys[0]"
   ],
   "metadata": {
    "collapsed": false,
    "ExecuteTime": {
     "end_time": "2023-09-19T10:42:53.774401Z",
     "start_time": "2023-09-19T10:42:53.767846500Z"
    }
   },
   "id": "52a7d814c511270"
  },
  {
   "cell_type": "code",
   "execution_count": 10,
   "outputs": [
    {
     "name": "stdout",
     "output_type": "stream",
     "text": [
      "Value(data=8.733844005309978, grad=0.0)\n"
     ]
    }
   ],
   "source": [
    "loss = loss_function.forward(out, ys)\n",
    "losses.append(loss.data)\n",
    "print(loss)"
   ],
   "metadata": {
    "collapsed": false,
    "ExecuteTime": {
     "end_time": "2023-09-19T10:42:53.790367700Z",
     "start_time": "2023-09-19T10:42:53.774401Z"
    }
   },
   "id": "ddceba0497050de7"
  },
  {
   "cell_type": "markdown",
   "source": [
    "### Backward"
   ],
   "metadata": {
    "collapsed": false
   },
   "id": "4c5e2b47ddb1deb9"
  },
  {
   "cell_type": "code",
   "execution_count": 11,
   "outputs": [],
   "source": [
    "model.zero_grad()\n",
    "loss.backward()"
   ],
   "metadata": {
    "collapsed": false,
    "ExecuteTime": {
     "end_time": "2023-09-19T10:42:54.686571800Z",
     "start_time": "2023-09-19T10:42:53.783857800Z"
    }
   },
   "id": "61abf6174c09bc3e"
  },
  {
   "cell_type": "markdown",
   "source": [
    "### Update"
   ],
   "metadata": {
    "collapsed": false
   },
   "id": "e246d8a5bfd34823"
  },
  {
   "cell_type": "code",
   "execution_count": 12,
   "outputs": [],
   "source": [
    "model.update(lr=0.1)"
   ],
   "metadata": {
    "collapsed": false,
    "ExecuteTime": {
     "end_time": "2023-09-19T10:42:54.686571800Z",
     "start_time": "2023-09-19T10:42:54.670792Z"
    }
   },
   "id": "6f7e6149c3fb3f53"
  },
  {
   "cell_type": "code",
   "execution_count": 13,
   "outputs": [
    {
     "name": "stdout",
     "output_type": "stream",
     "text": [
      "step 0 loss 5.504431370327378, accuracy 9.375%\n",
      "step 1 loss 6.220878462825519, accuracy 6.25%\n",
      "step 2 loss 4.422930153546918, accuracy 31.25%\n",
      "step 3 loss 5.539997168860207, accuracy 12.5%\n",
      "step 4 loss 5.63442482263122, accuracy 12.5%\n",
      "step 5 loss 3.7729762534945257, accuracy 18.75%\n",
      "step 6 loss 4.887366975996981, accuracy 21.875%\n",
      "step 7 loss 4.074915043415187, accuracy 9.375%\n",
      "step 8 loss 2.5827584269970227, accuracy 12.5%\n",
      "step 9 loss 3.3734950992300705, accuracy 12.5%\n"
     ]
    }
   ],
   "source": [
    "for k in range(10):\n",
    "    # create batch\n",
    "    sample_indices = np.random.randint(0, x_train.shape[0], size=batch_size)\n",
    "    xs = x_train[sample_indices].reshape(x_train[sample_indices].shape[0], -1)\n",
    "    ys = y_train[sample_indices]\n",
    "    # forward\n",
    "    out = np.array([model.forward(x) for x in xs])\n",
    "    loss = loss_function.forward(out, ys)\n",
    "    losses.append(loss.data)\n",
    "    accuracy = np.sum([np.argmax(out[i]) == np.argmax(ys[i]) for i in range(out.shape[0])]) / out.shape[0]\n",
    "    accuracies.append(accuracy)\n",
    "    # backward\n",
    "    model.zero_grad()\n",
    "    loss.backward()\n",
    "    model.update(lr=0.1)\n",
    "    print(f\"step {k} loss {loss.data}, accuracy {accuracy*100}%\")"
   ],
   "metadata": {
    "collapsed": false,
    "ExecuteTime": {
     "end_time": "2023-09-19T10:45:23.061534300Z",
     "start_time": "2023-09-19T10:42:54.675065200Z"
    }
   },
   "id": "95afb6979cad7f42"
  },
  {
   "cell_type": "code",
   "execution_count": 14,
   "outputs": [
    {
     "data": {
      "text/plain": "[<matplotlib.lines.Line2D at 0x17f94f9e150>]"
     },
     "execution_count": 14,
     "metadata": {},
     "output_type": "execute_result"
    },
    {
     "data": {
      "text/plain": "<Figure size 640x480 with 1 Axes>",
      "image/png": "[encoded data removed]"
     },
     "metadata": {},
     "output_type": "display_data"
    }
   ],
   "source": [
    "plt.plot(losses)"
   ],
   "metadata": {
    "collapsed": false,
    "ExecuteTime": {
     "end_time": "2023-09-19T10:45:23.202957100Z",
     "start_time": "2023-09-19T10:45:23.055523800Z"
    }
   },
   "id": "c589e6e6f687b453"
  }
 ],
 "metadata": {
  "kernelspec": {
   "display_name": "Python 3",
   "language": "python",
   "name": "python3"
  },
  "language_info": {
   "codemirror_mode": {
    "name": "ipython",
    "version": 2
   },
   "file_extension": ".py",
   "mimetype": "text/x-python",
   "name": "python",
   "nbconvert_exporter": "python",
   "pygments_lexer": "ipython2",
   "version": "2.7.6"
  }
 },
 "nbformat": 4,
 "nbformat_minor": 5
}
