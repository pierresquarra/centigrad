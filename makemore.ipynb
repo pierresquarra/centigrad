{
 "cells": [
  {
   "cell_type": "code",
   "execution_count": 1,
   "outputs": [],
   "source": [
    "import torch\n",
    "import torch.nn.functional as F\n",
    "from torch import nn\n",
    "import matplotlib.pyplot as plt"
   ],
   "metadata": {
    "collapsed": false,
    "ExecuteTime": {
     "end_time": "2023-09-19T20:36:42.880707500Z",
     "start_time": "2023-09-19T20:36:41.162039900Z"
    }
   },
   "id": "bfd9ae6fb6d91b87"
  },
  {
   "cell_type": "code",
   "execution_count": 2,
   "id": "initial_id",
   "metadata": {
    "collapsed": true,
    "ExecuteTime": {
     "end_time": "2023-09-19T20:36:42.888019100Z",
     "start_time": "2023-09-19T20:36:42.880707500Z"
    }
   },
   "outputs": [],
   "source": [
    "words = open('data/names.txt', 'r').read().splitlines()"
   ]
  },
  {
   "cell_type": "code",
   "execution_count": 3,
   "outputs": [],
   "source": [
    "# create lookup tables for string to index and index to string\n",
    "chars = sorted(list(set(''.join(words))))\n",
    "stoi = {s: i + 1 for i, s in enumerate(chars)}\n",
    "stoi['.'] = 0\n",
    "itos = {i: s for s, i in stoi.items()}"
   ],
   "metadata": {
    "collapsed": false,
    "ExecuteTime": {
     "end_time": "2023-09-19T20:36:42.893046Z",
     "start_time": "2023-09-19T20:36:42.893046Z"
    }
   },
   "id": "3b7ac0cfc547dfec"
  },
  {
   "cell_type": "code",
   "execution_count": 4,
   "outputs": [
    {
     "name": "stdout",
     "output_type": "stream",
     "text": [
      "number of examples:  228146\n"
     ]
    }
   ],
   "source": [
    "# create the training set of bigrams (x,y)\n",
    "xs, ys = [], []\n",
    "for w in words:\n",
    "  chs = ['.'] + list(w) + ['.']\n",
    "  for ch1, ch2 in zip(chs, chs[1:]):\n",
    "    ix1 = stoi[ch1]\n",
    "    ix2 = stoi[ch2]\n",
    "    xs.append(ix1)\n",
    "    ys.append(ix2)\n",
    "xs = torch.tensor(xs)\n",
    "xenc = F.one_hot(xs, num_classes=27).float()\n",
    "ys = torch.tensor(ys)\n",
    "num = xs.nelement()\n",
    "print('number of examples: ', num)"
   ],
   "metadata": {
    "collapsed": false,
    "ExecuteTime": {
     "end_time": "2023-09-19T20:36:43.049391400Z",
     "start_time": "2023-09-19T20:36:42.893046Z"
    }
   },
   "id": "d29d772599eeba82"
  },
  {
   "cell_type": "code",
   "execution_count": 5,
   "outputs": [],
   "source": [
    "class NN(nn.Module):\n",
    "    def __init__(self):\n",
    "        super(NN, self).__init__()\n",
    "        self.l = nn.Linear(27, 27)\n",
    "        self.a = nn.LogSoftmax(dim=1)\n",
    "    def forward(self, x):\n",
    "        out = self.l(x)\n",
    "        out = self.a(out)\n",
    "        return out"
   ],
   "metadata": {
    "collapsed": false,
    "ExecuteTime": {
     "end_time": "2023-09-19T20:36:43.049391400Z",
     "start_time": "2023-09-19T20:36:43.048881800Z"
    }
   },
   "id": "d36ee88052984430"
  },
  {
   "cell_type": "code",
   "execution_count": 6,
   "outputs": [],
   "source": [
    "model = NN()\n",
    "loss_function = nn.NLLLoss()\n",
    "optimizer = torch.optim.SGD(model.parameters(), lr=10, weight_decay=1e-2)\n",
    "losses = []"
   ],
   "metadata": {
    "collapsed": false,
    "ExecuteTime": {
     "end_time": "2023-09-19T20:36:43.054217400Z",
     "start_time": "2023-09-19T20:36:43.049391400Z"
    }
   },
   "id": "58efcd9f3087c5c4"
  },
  {
   "cell_type": "code",
   "execution_count": 7,
   "outputs": [
    {
     "name": "stdout",
     "output_type": "stream",
     "text": [
      "3.29360032081604\n",
      "2.7271950244903564\n",
      "2.7045462131500244\n",
      "2.700068950653076\n",
      "2.6990318298339844\n",
      "2.698772668838501\n",
      "2.6987051963806152\n",
      "2.6986868381500244\n",
      "2.6986820697784424\n",
      "2.6986804008483887\n"
     ]
    }
   ],
   "source": [
    "for i in range(100):\n",
    "    outs = model.forward(xenc)\n",
    "    loss = loss_function(outs, ys)\n",
    "    losses.append(loss.item())\n",
    "    model.zero_grad()\n",
    "    loss.backward()\n",
    "    optimizer.step()\n",
    "    if i % 10 == 0: print(loss.item())"
   ],
   "metadata": {
    "collapsed": false,
    "ExecuteTime": {
     "end_time": "2023-09-19T20:36:53.646451600Z",
     "start_time": "2023-09-19T20:36:43.054217400Z"
    }
   },
   "id": "d6d9aea0d1885fcb"
  },
  {
   "cell_type": "code",
   "execution_count": 8,
   "outputs": [
    {
     "data": {
      "text/plain": "[<matplotlib.lines.Line2D at 0x11ac2332cd0>]"
     },
     "execution_count": 8,
     "metadata": {},
     "output_type": "execute_result"
    },
    {
     "data": {
      "text/plain": "<Figure size 640x480 with 1 Axes>",
      "image/png": "[encoded data removed]"
     },
     "metadata": {},
     "output_type": "display_data"
    }
   ],
   "source": [
    "plt.plot(losses)"
   ],
   "metadata": {
    "collapsed": false,
    "ExecuteTime": {
     "end_time": "2023-09-19T20:36:53.784596600Z",
     "start_time": "2023-09-19T20:36:53.646451600Z"
    }
   },
   "id": "3819e530287318ed"
  }
 ],
 "metadata": {
  "kernelspec": {
   "display_name": "Python 3",
   "language": "python",
   "name": "python3"
  },
  "language_info": {
   "codemirror_mode": {
    "name": "ipython",
    "version": 2
   },
   "file_extension": ".py",
   "mimetype": "text/x-python",
   "name": "python",
   "nbconvert_exporter": "python",
   "pygments_lexer": "ipython2",
   "version": "2.7.6"
  }
 },
 "nbformat": 4,
 "nbformat_minor": 5
}
