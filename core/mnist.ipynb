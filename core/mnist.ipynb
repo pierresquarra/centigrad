{
 "cells": [
  {
   "cell_type": "code",
   "execution_count": 1,
   "outputs": [],
   "source": [
    "import numpy as np\n",
    "from core.nn import NN\n",
    "from core.functional import softmax"
   ],
   "metadata": {
    "collapsed": false,
    "ExecuteTime": {
     "end_time": "2023-09-16T21:55:42.426825300Z",
     "start_time": "2023-09-16T21:55:42.352281700Z"
    }
   },
   "id": "f55ea1701f0de129"
  },
  {
   "cell_type": "code",
   "execution_count": 2,
   "id": "initial_id",
   "metadata": {
    "collapsed": true,
    "ExecuteTime": {
     "end_time": "2023-09-16T21:55:44.432059600Z",
     "start_time": "2023-09-16T21:55:42.429329900Z"
    }
   },
   "outputs": [],
   "source": [
    "import tensorflow as tf\n",
    "(x_train, y_train), (x_test, y_test) = tf.keras.datasets.mnist.load_data()"
   ]
  },
  {
   "cell_type": "code",
   "execution_count": 3,
   "outputs": [
    {
     "data": {
      "text/plain": "(60000, 28, 28)"
     },
     "execution_count": 3,
     "metadata": {},
     "output_type": "execute_result"
    }
   ],
   "source": [
    "x_train.shape"
   ],
   "metadata": {
    "collapsed": false,
    "ExecuteTime": {
     "end_time": "2023-09-16T21:55:44.438503300Z",
     "start_time": "2023-09-16T21:55:44.432059600Z"
    }
   },
   "id": "564486f0a7147aaa"
  },
  {
   "cell_type": "code",
   "execution_count": 4,
   "outputs": [
    {
     "data": {
      "text/plain": "(60000, 784)"
     },
     "execution_count": 4,
     "metadata": {},
     "output_type": "execute_result"
    }
   ],
   "source": [
    "new = x_train.reshape(x_train.shape[0], -1)\n",
    "new.shape"
   ],
   "metadata": {
    "collapsed": false,
    "ExecuteTime": {
     "end_time": "2023-09-16T21:55:44.443280700Z",
     "start_time": "2023-09-16T21:55:44.438503300Z"
    }
   },
   "id": "7f501a7c83ec063e"
  },
  {
   "cell_type": "code",
   "execution_count": 5,
   "outputs": [
    {
     "data": {
      "text/plain": "[784, 8, 8, 10]"
     },
     "execution_count": 5,
     "metadata": {},
     "output_type": "execute_result"
    }
   ],
   "source": [
    "net = NN(784, [8, 8, 10])\n",
    "net.layer_sizes"
   ],
   "metadata": {
    "collapsed": false,
    "ExecuteTime": {
     "end_time": "2023-09-16T21:55:44.490233200Z",
     "start_time": "2023-09-16T21:55:44.443280700Z"
    }
   },
   "id": "94260cc509883ac8"
  },
  {
   "cell_type": "code",
   "execution_count": 6,
   "outputs": [],
   "source": [
    "batch_size = 32\n",
    "losses, accuracies = [], []"
   ],
   "metadata": {
    "collapsed": false,
    "ExecuteTime": {
     "end_time": "2023-09-16T21:55:44.490233200Z",
     "start_time": "2023-09-16T21:55:44.459910100Z"
    }
   },
   "id": "9c425e104d2f3ad6"
  },
  {
   "cell_type": "code",
   "execution_count": 7,
   "outputs": [
    {
     "data": {
      "text/plain": "array([ 8253, 32564, 42227, 47872, 15114, 59269, 58689, 31692, 25265,\n       10864, 20486, 59352, 18161, 55280, 40973, 59760,  5454, 21483,\n       20321, 22635, 21521, 55442, 28628, 55004, 56627, 11463, 43721,\n       42666, 37858, 14671,  3606,  9992])"
     },
     "execution_count": 7,
     "metadata": {},
     "output_type": "execute_result"
    }
   ],
   "source": [
    "samp = np.random.randint(0, x_train.shape[0], size=batch_size)\n",
    "samp"
   ],
   "metadata": {
    "collapsed": false,
    "ExecuteTime": {
     "end_time": "2023-09-16T21:55:44.490233200Z",
     "start_time": "2023-09-16T21:55:44.464023Z"
    }
   },
   "id": "95afb6979cad7f42"
  },
  {
   "cell_type": "code",
   "execution_count": 8,
   "outputs": [
    {
     "name": "stdout",
     "output_type": "stream",
     "text": [
      "(32, 28, 28)\n",
      "(32, 784)\n",
      "(32,)\n"
     ]
    }
   ],
   "source": [
    "print(x_train[samp].shape)\n",
    "xs = x_train[samp].reshape(x_train[samp].shape[0], -1)\n",
    "print(xs.shape)\n",
    "ys = y_train[samp]\n",
    "print(ys.shape)"
   ],
   "metadata": {
    "collapsed": false,
    "ExecuteTime": {
     "end_time": "2023-09-16T21:55:44.490233200Z",
     "start_time": "2023-09-16T21:55:44.470074Z"
    }
   },
   "id": "e2335bebe53a2630"
  },
  {
   "cell_type": "code",
   "execution_count": 9,
   "outputs": [
    {
     "name": "stderr",
     "output_type": "stream",
     "text": [
      "C:\\Users\\pierr\\Git\\deep-learning-framework\\core\\engine.py:108: RuntimeWarning: overflow encountered in exp\n",
      "  data = 1 / (1 + np.exp(-x))\n"
     ]
    },
    {
     "name": "stdout",
     "output_type": "stream",
     "text": [
      "32\n",
      "[[Value(data=0.09647424733998435, grad=0.0), Value(data=0.07650089184305804, grad=0.0), Value(data=0.13213091207437086, grad=0.0), Value(data=0.09179141863560793, grad=0.0), Value(data=0.13755864016115768, grad=0.0), Value(data=0.07079725571192777, grad=0.0), Value(data=0.0787153166343711, grad=0.0), Value(data=0.10945205608746922, grad=0.0), Value(data=0.12154740769734321, grad=0.0), Value(data=0.08503185381470975, grad=0.0)], [Value(data=0.09593323635337184, grad=0.0), Value(data=0.07417271467932238, grad=0.0), Value(data=0.12749859015965426, grad=0.0), Value(data=0.09420499104265996, grad=0.0), Value(data=0.1329870200118193, grad=0.0), Value(data=0.07918078534467071, grad=0.0), Value(data=0.08338490310173739, grad=0.0), Value(data=0.11271128918021954, grad=0.0), Value(data=0.1218318567576204, grad=0.0), Value(data=0.07809461336892433, grad=0.0)], [Value(data=0.08800512538534021, grad=0.0), Value(data=0.06764452512947862, grad=0.0), Value(data=0.13110469777372283, grad=0.0), Value(data=0.08997724561282167, grad=0.0), Value(data=0.13663783519788636, grad=0.0), Value(data=0.07796636625352442, grad=0.0), Value(data=0.07797151808203703, grad=0.0), Value(data=0.11620108477757568, grad=0.0), Value(data=0.1209073756534826, grad=0.0), Value(data=0.09358422613413048, grad=0.0)], [Value(data=0.08800512538534021, grad=0.0), Value(data=0.06764452512947862, grad=0.0), Value(data=0.13110469777372283, grad=0.0), Value(data=0.08997724561282167, grad=0.0), Value(data=0.13663783519788636, grad=0.0), Value(data=0.07796636625352442, grad=0.0), Value(data=0.07797151808203703, grad=0.0), Value(data=0.11620108477757568, grad=0.0), Value(data=0.1209073756534826, grad=0.0), Value(data=0.09358422613413048, grad=0.0)], [Value(data=0.08065046684390648, grad=0.0), Value(data=0.07013877611080357, grad=0.0), Value(data=0.13708524038337017, grad=0.0), Value(data=0.08323930435375286, grad=0.0), Value(data=0.14002468005663654, grad=0.0), Value(data=0.07277086567178837, grad=0.0), Value(data=0.06990626099813567, grad=0.0), Value(data=0.12369410860341709, grad=0.0), Value(data=0.12900132622904495, grad=0.0), Value(data=0.09348897074914435, grad=0.0)], [Value(data=0.08800512538534021, grad=0.0), Value(data=0.06764452512947862, grad=0.0), Value(data=0.13110469777372283, grad=0.0), Value(data=0.08997724561282167, grad=0.0), Value(data=0.13663783519788636, grad=0.0), Value(data=0.07796636625352442, grad=0.0), Value(data=0.07797151808203703, grad=0.0), Value(data=0.11620108477757568, grad=0.0), Value(data=0.1209073756534826, grad=0.0), Value(data=0.09358422613413048, grad=0.0)], [Value(data=0.09438245098422535, grad=0.0), Value(data=0.07849718074049054, grad=0.0), Value(data=0.12836602422212548, grad=0.0), Value(data=0.08958130188131816, grad=0.0), Value(data=0.13247777825173718, grad=0.0), Value(data=0.07947576472292815, grad=0.0), Value(data=0.08371540033921872, grad=0.0), Value(data=0.11636839565470755, grad=0.0), Value(data=0.1218058664296471, grad=0.0), Value(data=0.07532983677360172, grad=0.0)], [Value(data=0.06558762912458828, grad=0.0), Value(data=0.07772542162784418, grad=0.0), Value(data=0.12758827863921277, grad=0.0), Value(data=0.07442212462883097, grad=0.0), Value(data=0.1252471109649917, grad=0.0), Value(data=0.0822646071405106, grad=0.0), Value(data=0.06643091164918209, grad=0.0), Value(data=0.13650558888752146, grad=0.0), Value(data=0.13741514446278164, grad=0.0), Value(data=0.1068131828745363, grad=0.0)], [Value(data=0.07430827018732188, grad=0.0), Value(data=0.06659794968904367, grad=0.0), Value(data=0.13282959962174512, grad=0.0), Value(data=0.07933896839995867, grad=0.0), Value(data=0.13348378341286612, grad=0.0), Value(data=0.08113001307137722, grad=0.0), Value(data=0.06918579726938993, grad=0.0), Value(data=0.13031724469346354, grad=0.0), Value(data=0.1289134867389849, grad=0.0), Value(data=0.10389488691584901, grad=0.0)], [Value(data=0.09886558074197985, grad=0.0), Value(data=0.06494480883434217, grad=0.0), Value(data=0.12315249483475839, grad=0.0), Value(data=0.0963536194991935, grad=0.0), Value(data=0.12959336321726322, grad=0.0), Value(data=0.0865782469026156, grad=0.0), Value(data=0.08696092584043677, grad=0.0), Value(data=0.11340977539757446, grad=0.0), Value(data=0.11259427638068029, grad=0.0), Value(data=0.0875469083511559, grad=0.0)], [Value(data=0.07343231124552076, grad=0.0), Value(data=0.06963166387821985, grad=0.0), Value(data=0.13137631175649928, grad=0.0), Value(data=0.09275784370628917, grad=0.0), Value(data=0.141801213668945, grad=0.0), Value(data=0.07566886448768091, grad=0.0), Value(data=0.0824087619482314, grad=0.0), Value(data=0.1086198286496511, grad=0.0), Value(data=0.12998998852551305, grad=0.0), Value(data=0.09431321213344962, grad=0.0)], [Value(data=0.08027027167729983, grad=0.0), Value(data=0.07969516954994824, grad=0.0), Value(data=0.13825582990870547, grad=0.0), Value(data=0.07257475426979411, grad=0.0), Value(data=0.13746648425040886, grad=0.0), Value(data=0.07371693839011222, grad=0.0), Value(data=0.06887020288054463, grad=0.0), Value(data=0.1330397117445361, grad=0.0), Value(data=0.12800667570932947, grad=0.0), Value(data=0.08810396161932117, grad=0.0)], [Value(data=0.10121274732401904, grad=0.0), Value(data=0.07008765695767634, grad=0.0), Value(data=0.12522909674500182, grad=0.0), Value(data=0.09574201709879437, grad=0.0), Value(data=0.13142030866870794, grad=0.0), Value(data=0.0820628928157347, grad=0.0), Value(data=0.08506288790822668, grad=0.0), Value(data=0.11156333701765984, grad=0.0), Value(data=0.11495574410285893, grad=0.0), Value(data=0.08266331136132046, grad=0.0)], [Value(data=0.06676957378284831, grad=0.0), Value(data=0.10077155989643609, grad=0.0), Value(data=0.13404202756504763, grad=0.0), Value(data=0.07162295236564552, grad=0.0), Value(data=0.1344957385667498, grad=0.0), Value(data=0.06931084119343305, grad=0.0), Value(data=0.0611527453796358, grad=0.0), Value(data=0.13420536263083702, grad=0.0), Value(data=0.1361543093624436, grad=0.0), Value(data=0.09147488925692313, grad=0.0)], [Value(data=0.09886558074197985, grad=0.0), Value(data=0.06494480883434217, grad=0.0), Value(data=0.12315249483475839, grad=0.0), Value(data=0.0963536194991935, grad=0.0), Value(data=0.12959336321726322, grad=0.0), Value(data=0.0865782469026156, grad=0.0), Value(data=0.08696092584043677, grad=0.0), Value(data=0.11340977539757446, grad=0.0), Value(data=0.11259427638068029, grad=0.0), Value(data=0.0875469083511559, grad=0.0)], [Value(data=0.08800512538534021, grad=0.0), Value(data=0.06764452512947862, grad=0.0), Value(data=0.13110469777372283, grad=0.0), Value(data=0.08997724561282167, grad=0.0), Value(data=0.13663783519788636, grad=0.0), Value(data=0.07796636625352442, grad=0.0), Value(data=0.07797151808203703, grad=0.0), Value(data=0.11620108477757568, grad=0.0), Value(data=0.1209073756534826, grad=0.0), Value(data=0.09358422613413048, grad=0.0)], [Value(data=0.08724825389249875, grad=0.0), Value(data=0.07500557482164807, grad=0.0), Value(data=0.1320158851582901, grad=0.0), Value(data=0.08962067020728214, grad=0.0), Value(data=0.13649070431424432, grad=0.0), Value(data=0.07653789697351858, grad=0.0), Value(data=0.078508513605943, grad=0.0), Value(data=0.1170012336044076, grad=0.0), Value(data=0.1274265672556402, grad=0.0), Value(data=0.08014470016652722, grad=0.0)], [Value(data=0.09427149231834792, grad=0.0), Value(data=0.0710316392171454, grad=0.0), Value(data=0.13123734812215176, grad=0.0), Value(data=0.09161951244107257, grad=0.0), Value(data=0.1365392215187876, grad=0.0), Value(data=0.07494809315307321, grad=0.0), Value(data=0.0794985375176503, grad=0.0), Value(data=0.11314478814800587, grad=0.0), Value(data=0.12033678355560523, grad=0.0), Value(data=0.08737258400816017, grad=0.0)], [Value(data=0.08618224680859198, grad=0.0), Value(data=0.0807857199744182, grad=0.0), Value(data=0.12696342052612788, grad=0.0), Value(data=0.09117111687786787, grad=0.0), Value(data=0.13137146621042986, grad=0.0), Value(data=0.08093426755108714, grad=0.0), Value(data=0.08238138087040685, grad=0.0), Value(data=0.11660660779754232, grad=0.0), Value(data=0.1298811925376426, grad=0.0), Value(data=0.0737225808458853, grad=0.0)], [Value(data=0.09706761994812603, grad=0.0), Value(data=0.0855976836300079, grad=0.0), Value(data=0.13306039912721476, grad=0.0), Value(data=0.09031110386978038, grad=0.0), Value(data=0.1382167381995058, grad=0.0), Value(data=0.06708048519474694, grad=0.0), Value(data=0.07738651517676595, grad=0.0), Value(data=0.10733636834574524, grad=0.0), Value(data=0.12303023557323539, grad=0.0), Value(data=0.08091285093487166, grad=0.0)], [Value(data=0.08618224680859198, grad=0.0), Value(data=0.0807857199744182, grad=0.0), Value(data=0.12696342052612788, grad=0.0), Value(data=0.09117111687786787, grad=0.0), Value(data=0.13137146621042986, grad=0.0), Value(data=0.08093426755108714, grad=0.0), Value(data=0.08238138087040685, grad=0.0), Value(data=0.11660660779754232, grad=0.0), Value(data=0.1298811925376426, grad=0.0), Value(data=0.0737225808458853, grad=0.0)], [Value(data=0.08541777002769618, grad=0.0), Value(data=0.06497184821881011, grad=0.0), Value(data=0.12667100481701096, grad=0.0), Value(data=0.0862196564588452, grad=0.0), Value(data=0.12900402959238788, grad=0.0), Value(data=0.08987282645678382, grad=0.0), Value(data=0.08288087009159938, grad=0.0), Value(data=0.12347089556620935, grad=0.0), Value(data=0.11920963269366122, grad=0.0), Value(data=0.09228146607699565, grad=0.0)], [Value(data=0.07997688612289269, grad=0.0), Value(data=0.09194657809260909, grad=0.0), Value(data=0.13700653340174893, grad=0.0), Value(data=0.08005876178833003, grad=0.0), Value(data=0.1395269800148645, grad=0.0), Value(data=0.06698392563076262, grad=0.0), Value(data=0.06654470057759612, grad=0.0), Value(data=0.12389298507906588, grad=0.0), Value(data=0.13284338398864903, grad=0.0), Value(data=0.08121926530348103, grad=0.0)], [Value(data=0.09427149231834792, grad=0.0), Value(data=0.0710316392171454, grad=0.0), Value(data=0.13123734812215176, grad=0.0), Value(data=0.09161951244107257, grad=0.0), Value(data=0.1365392215187876, grad=0.0), Value(data=0.07494809315307321, grad=0.0), Value(data=0.0794985375176503, grad=0.0), Value(data=0.11314478814800587, grad=0.0), Value(data=0.12033678355560523, grad=0.0), Value(data=0.08737258400816017, grad=0.0)], [Value(data=0.07430827018732188, grad=0.0), Value(data=0.06659794968904367, grad=0.0), Value(data=0.13282959962174512, grad=0.0), Value(data=0.07933896839995867, grad=0.0), Value(data=0.13348378341286612, grad=0.0), Value(data=0.08113001307137722, grad=0.0), Value(data=0.06918579726938993, grad=0.0), Value(data=0.13031724469346354, grad=0.0), Value(data=0.1289134867389849, grad=0.0), Value(data=0.10389488691584901, grad=0.0)], [Value(data=0.09582408079391469, grad=0.0), Value(data=0.08044244835874544, grad=0.0), Value(data=0.13240555429649337, grad=0.0), Value(data=0.08998795321150892, grad=0.0), Value(data=0.13739567773649522, grad=0.0), Value(data=0.07044638556309347, grad=0.0), Value(data=0.07823370461563098, grad=0.0), Value(data=0.1113370289439316, grad=0.0), Value(data=0.12191302499030741, grad=0.0), Value(data=0.08201414148987879, grad=0.0)], [Value(data=0.09886558074197985, grad=0.0), Value(data=0.06494480883434217, grad=0.0), Value(data=0.12315249483475839, grad=0.0), Value(data=0.0963536194991935, grad=0.0), Value(data=0.12959336321726322, grad=0.0), Value(data=0.0865782469026156, grad=0.0), Value(data=0.08696092584043677, grad=0.0), Value(data=0.11340977539757446, grad=0.0), Value(data=0.11259427638068029, grad=0.0), Value(data=0.0875469083511559, grad=0.0)], [Value(data=0.07968423159299225, grad=0.0), Value(data=0.08366999427963502, grad=0.0), Value(data=0.12109762827710606, grad=0.0), Value(data=0.10372831656929106, grad=0.0), Value(data=0.13761596359182254, grad=0.0), Value(data=0.07679086899121083, grad=0.0), Value(data=0.09342486419273381, grad=0.0), Value(data=0.09678744611461589, grad=0.0), Value(data=0.12847675638720057, grad=0.0), Value(data=0.07872393000339199, grad=0.0)], [Value(data=0.08062404794556176, grad=0.0), Value(data=0.08064210765879232, grad=0.0), Value(data=0.1383776319416577, grad=0.0), Value(data=0.0774118792754877, grad=0.0), Value(data=0.1394002606833694, grad=0.0), Value(data=0.06902983712223286, grad=0.0), Value(data=0.06336354347790955, grad=0.0), Value(data=0.13065783231099531, grad=0.0), Value(data=0.13127483786748767, grad=0.0), Value(data=0.08921802171650592, grad=0.0)], [Value(data=0.07506538550550217, grad=0.0), Value(data=0.07906383092127725, grad=0.0), Value(data=0.1370311323024495, grad=0.0), Value(data=0.08925611467076423, grad=0.0), Value(data=0.14365622575462503, grad=0.0), Value(data=0.06938657661356765, grad=0.0), Value(data=0.07473678285358498, grad=0.0), Value(data=0.11428698131520637, grad=0.0), Value(data=0.13253238204424647, grad=0.0), Value(data=0.0849845880187765, grad=0.0)], [Value(data=0.10121274732401904, grad=0.0), Value(data=0.07008765695767634, grad=0.0), Value(data=0.12522909674500182, grad=0.0), Value(data=0.09574201709879437, grad=0.0), Value(data=0.13142030866870794, grad=0.0), Value(data=0.0820628928157347, grad=0.0), Value(data=0.08506288790822668, grad=0.0), Value(data=0.11156333701765984, grad=0.0), Value(data=0.11495574410285893, grad=0.0), Value(data=0.08266331136132046, grad=0.0)], [Value(data=0.0700186827263895, grad=0.0), Value(data=0.09041497744567484, grad=0.0), Value(data=0.13544144150497522, grad=0.0), Value(data=0.07015284313162702, grad=0.0), Value(data=0.13516689357332756, grad=0.0), Value(data=0.07119803292840111, grad=0.0), Value(data=0.06588976627952413, grad=0.0), Value(data=0.13183679660332395, grad=0.0), Value(data=0.13228782808434075, grad=0.0), Value(data=0.09759273772241583, grad=0.0)]]\n",
      "[4, 4, 4, 4, 4, 4, 4, 8, 4, 4, 4, 2, 4, 8, 4, 4, 4, 4, 4, 4, 4, 4, 4, 4, 4, 4, 4, 4, 4, 4, 4, 2]\n"
     ]
    }
   ],
   "source": [
    "predictions = [net(x) for x in xs]\n",
    "ypred = [softmax(pred) for pred in predictions]\n",
    "maxpred = [np.argmax(pred) for pred in predictions]\n",
    "print(len(ypred))\n",
    "print(ypred)\n",
    "print(maxpred)"
   ],
   "metadata": {
    "collapsed": false,
    "ExecuteTime": {
     "end_time": "2023-09-16T21:55:49.725326800Z",
     "start_time": "2023-09-16T21:55:44.476725300Z"
    }
   },
   "id": "617aa79adee70916"
  },
  {
   "cell_type": "code",
   "execution_count": 10,
   "outputs": [],
   "source": [
    "def encode_ys(ys: list):\n",
    "    assert isinstance(ys[0], list) == False, \"Make sure list is one-dimensional\"\n",
    "    encoded_ys = [[0] * 10 for _ in ys]\n",
    "    for i in range(len(encoded_ys)):\n",
    "        encoded_ys[i][ys[i]] = 1\n",
    "    return encoded_ys"
   ],
   "metadata": {
    "collapsed": false,
    "ExecuteTime": {
     "end_time": "2023-09-16T21:55:49.729755500Z",
     "start_time": "2023-09-16T21:55:49.725326800Z"
    }
   },
   "id": "ec9170cdaae7c7c7"
  },
  {
   "cell_type": "code",
   "execution_count": 11,
   "outputs": [
    {
     "name": "stdout",
     "output_type": "stream",
     "text": [
      "[0 0 0 3 6 5 1 4 2 7 6 3 7 4 1 3 9 7 0 2 0 5 0 4 9 4 4 1 4 6 3 7]\n",
      "[[1, 0, 0, 0, 0, 0, 0, 0, 0, 0], [1, 0, 0, 0, 0, 0, 0, 0, 0, 0], [1, 0, 0, 0, 0, 0, 0, 0, 0, 0], [0, 0, 0, 1, 0, 0, 0, 0, 0, 0], [0, 0, 0, 0, 0, 0, 1, 0, 0, 0], [0, 0, 0, 0, 0, 1, 0, 0, 0, 0], [0, 1, 0, 0, 0, 0, 0, 0, 0, 0], [0, 0, 0, 0, 1, 0, 0, 0, 0, 0], [0, 0, 1, 0, 0, 0, 0, 0, 0, 0], [0, 0, 0, 0, 0, 0, 0, 1, 0, 0], [0, 0, 0, 0, 0, 0, 1, 0, 0, 0], [0, 0, 0, 1, 0, 0, 0, 0, 0, 0], [0, 0, 0, 0, 0, 0, 0, 1, 0, 0], [0, 0, 0, 0, 1, 0, 0, 0, 0, 0], [0, 1, 0, 0, 0, 0, 0, 0, 0, 0], [0, 0, 0, 1, 0, 0, 0, 0, 0, 0], [0, 0, 0, 0, 0, 0, 0, 0, 0, 1], [0, 0, 0, 0, 0, 0, 0, 1, 0, 0], [1, 0, 0, 0, 0, 0, 0, 0, 0, 0], [0, 0, 1, 0, 0, 0, 0, 0, 0, 0], [1, 0, 0, 0, 0, 0, 0, 0, 0, 0], [0, 0, 0, 0, 0, 1, 0, 0, 0, 0], [1, 0, 0, 0, 0, 0, 0, 0, 0, 0], [0, 0, 0, 0, 1, 0, 0, 0, 0, 0], [0, 0, 0, 0, 0, 0, 0, 0, 0, 1], [0, 0, 0, 0, 1, 0, 0, 0, 0, 0], [0, 0, 0, 0, 1, 0, 0, 0, 0, 0], [0, 1, 0, 0, 0, 0, 0, 0, 0, 0], [0, 0, 0, 0, 1, 0, 0, 0, 0, 0], [0, 0, 0, 0, 0, 0, 1, 0, 0, 0], [0, 0, 0, 1, 0, 0, 0, 0, 0, 0], [0, 0, 0, 0, 0, 0, 0, 1, 0, 0]]\n"
     ]
    }
   ],
   "source": [
    "print(ys)\n",
    "encoded_ys = encode_ys(ys)\n",
    "print(encoded_ys)"
   ],
   "metadata": {
    "collapsed": false,
    "ExecuteTime": {
     "end_time": "2023-09-16T21:55:49.811907900Z",
     "start_time": "2023-09-16T21:55:49.732733800Z"
    }
   },
   "id": "60ec929d7246a3d4"
  },
  {
   "cell_type": "code",
   "execution_count": 12,
   "outputs": [],
   "source": [
    "def nice_mse(ypred: list, encoded_ys: list):\n",
    "    assert len(ypred) == len(encoded_ys)\n",
    "    assert len(ypred[0]) == len(encoded_ys[0])\n",
    "    n = len(ypred)\n",
    "    m = len(ypred[0])\n",
    "    loss = 0\n",
    "    for i in range(n):\n",
    "        loss += sum([(ypred[i][j] - encoded_ys[i][j])**2 for j in range(m)])\n",
    "    return loss"
   ],
   "metadata": {
    "collapsed": false,
    "ExecuteTime": {
     "end_time": "2023-09-16T21:55:49.811907900Z",
     "start_time": "2023-09-16T21:55:49.780220800Z"
    }
   },
   "id": "c0ec38f9fb19dcd5"
  },
  {
   "cell_type": "code",
   "execution_count": 13,
   "outputs": [],
   "source": [
    "def ugly_mse(ypred: list, ys: list):\n",
    "    assert len(ypred) == len(ys)\n",
    "    return sum([(ypred[i] - ys[i])**2 for i in range(len(ypred))])"
   ],
   "metadata": {
    "collapsed": false,
    "ExecuteTime": {
     "end_time": "2023-09-16T21:55:49.811907900Z",
     "start_time": "2023-09-16T21:55:49.780220800Z"
    }
   },
   "id": "9fda81352bbb26f2"
  },
  {
   "cell_type": "code",
   "execution_count": 14,
   "outputs": [
    {
     "name": "stdout",
     "output_type": "stream",
     "text": [
      "283\n",
      "Value(data=28.934044356207234, grad=0.0)\n"
     ]
    }
   ],
   "source": [
    "print(ugly_mse(maxpred, ys))\n",
    "print(nice_mse(ypred, encoded_ys))"
   ],
   "metadata": {
    "collapsed": false,
    "ExecuteTime": {
     "end_time": "2023-09-16T21:55:49.811907900Z",
     "start_time": "2023-09-16T21:55:49.780220800Z"
    }
   },
   "id": "c89e508d45f90492"
  },
  {
   "cell_type": "code",
   "execution_count": 16,
   "outputs": [
    {
     "name": "stderr",
     "output_type": "stream",
     "text": [
      "C:\\Users\\pierr\\Git\\deep-learning-framework\\core\\engine.py:108: RuntimeWarning: overflow encountered in exp\n",
      "  data = 1 / (1 + np.exp(-x))\n"
     ]
    },
    {
     "name": "stdout",
     "output_type": "stream",
     "text": [
      "0 29.597238843615823\n",
      "1 29.475836529739492\n",
      "2 28.758506673574022\n",
      "3 28.82268646717103\n",
      "4 29.389160137750046\n",
      "5 29.154807243857327\n",
      "6 29.193940991339158\n",
      "7 28.89207652357036\n",
      "8 29.06521727647835\n",
      "9 28.964795879531415\n",
      "[[Value(data=0.10121274732401904, grad=0.20242549464803808), Value(data=0.07008765695767634, grad=-1.8598246860846472), Value(data=0.12522909674500182, grad=0.25045819349000364), Value(data=0.09574201709879437, grad=0.19148403419758875), Value(data=0.13142030866870794, grad=0.26284061733741587), Value(data=0.0820628928157347, grad=0.1641257856314694), Value(data=0.08506288790822668, grad=0.17012577581645336), Value(data=0.11156333701765984, grad=0.2231266740353197), Value(data=0.11495574410285893, grad=0.22991148820571786), Value(data=0.08266331136132046, grad=0.16532662272264093)], [Value(data=0.10295177120445202, grad=0.20590354240890404), Value(data=0.06788753124687681, grad=0.13577506249375362), Value(data=0.1256937452155142, grad=0.2513874904310284), Value(data=0.09518017221452076, grad=0.1903603444290415), Value(data=0.131144672129347, grad=0.262289344258694), Value(data=0.08140908864552833, grad=0.16281817729105666), Value(data=0.08432527721875041, grad=-1.8313494455624992), Value(data=0.11242398029416285, grad=0.2248479605883257), Value(data=0.11345183434115014, grad=0.22690366868230027), Value(data=0.0855319274896975, grad=0.171063854979395)], [Value(data=0.09413209203689006, grad=0.18826418407378012), Value(data=0.07495546076066364, grad=0.1499109215213273), Value(data=0.1371130362323798, grad=0.2742260724647596), Value(data=0.08261474905187972, grad=0.16522949810375945), Value(data=0.1395113665191483, grad=0.2790227330382966), Value(data=0.06846757219315437, grad=-1.8630648556136913), Value(data=0.07153446936744537, grad=0.14306893873489074), Value(data=0.11965765703786001, grad=0.23931531407572001), Value(data=0.12249365362787339, grad=0.24498730725574677), Value(data=0.08951994317270534, grad=0.17903988634541068)], [Value(data=0.06534907475165566, grad=0.13069814950331132), Value(data=0.09982894947038656, grad=0.19965789894077313), Value(data=0.13107897225124146, grad=0.2621579445024829), Value(data=0.07136843887694366, grad=0.14273687775388733), Value(data=0.1306745832996763, grad=0.2613491665993526), Value(data=0.07490633313233494, grad=-1.85018733373533), Value(data=0.0616241315535462, grad=0.1232482631070924), Value(data=0.13685276766877544, grad=0.2737055353375509), Value(data=0.13531744125227818, grad=0.27063488250455636), Value(data=0.09299930774316151, grad=0.18599861548632302)], [Value(data=0.09296568317649086, grad=0.18593136635298171), Value(data=0.06340883224843445, grad=0.1268176644968689), Value(data=0.12979635306382598, grad=0.25959270612765195), Value(data=0.08813736995816138, grad=0.17627473991632275), Value(data=0.1335471895455613, grad=0.2670943790911226), Value(data=0.08266201946390962, grad=0.16532403892781924), Value(data=0.07983203913232718, grad=-1.8403359217353457), Value(data=0.11935064930021456, grad=0.23870129860042913), Value(data=0.11470896444208944, grad=0.2294179288841789), Value(data=0.09559089966898549, grad=0.19118179933797097)], [Value(data=0.09427149231834792, grad=0.18854298463669583), Value(data=0.0710316392171454, grad=0.1420632784342908), Value(data=0.13123734812215176, grad=0.26247469624430353), Value(data=0.09161951244107257, grad=0.18323902488214514), Value(data=0.1365392215187876, grad=0.2730784430375752), Value(data=0.07494809315307321, grad=0.14989618630614643), Value(data=0.0794985375176503, grad=0.1589970750353006), Value(data=0.11314478814800587, grad=-1.7737104237039882), Value(data=0.12033678355560523, grad=0.24067356711121046), Value(data=0.08737258400816017, grad=0.17474516801632034)], [Value(data=0.10121274732401904, grad=0.20242549464803808), Value(data=0.07008765695767634, grad=-1.8598246860846472), Value(data=0.12522909674500182, grad=0.25045819349000364), Value(data=0.09574201709879437, grad=0.19148403419758875), Value(data=0.13142030866870794, grad=0.26284061733741587), Value(data=0.0820628928157347, grad=0.1641257856314694), Value(data=0.08506288790822668, grad=0.17012577581645336), Value(data=0.11156333701765984, grad=0.2231266740353197), Value(data=0.11495574410285893, grad=0.22991148820571786), Value(data=0.08266331136132046, grad=0.16532662272264093)], [Value(data=0.09229982919533707, grad=0.18459965839067413), Value(data=0.07202280377230516, grad=0.14404560754461032), Value(data=0.132505773023471, grad=0.265011546046942), Value(data=0.0904324427709948, grad=0.1808648855419896), Value(data=0.13806144333216436, grad=0.2761228866643287), Value(data=0.07260871283530847, grad=-1.854782574329383), Value(data=0.07756024473620932, grad=0.15512048947241863), Value(data=0.11202762352820543, grad=0.22405524705641086), Value(data=0.12102415045089102, grad=0.24204830090178203), Value(data=0.0914569763551134, grad=0.1829139527102268)], [Value(data=0.08317136360923065, grad=0.1663427272184613), Value(data=0.06403604701150872, grad=0.12807209402301745), Value(data=0.12927949730480098, grad=0.25855899460960197), Value(data=0.08861595632748988, grad=-1.8227680873450203), Value(data=0.13443534959668998, grad=0.26887069919337997), Value(data=0.0821992088519232, grad=0.1643984177038464), Value(data=0.07876364101680776, grad=0.15752728203361552), Value(data=0.11891954453039011, grad=0.23783908906078022), Value(data=0.12085934949853817, grad=0.24171869899707635), Value(data=0.0997200422526205, grad=0.199440084505241)], [Value(data=0.07531073924889167, grad=0.15062147849778335), Value(data=0.08320328214370658, grad=0.16640656428741316), Value(data=0.12899934532468058, grad=0.25799869064936115), Value(data=0.09837706466606902, grad=-1.803245870667862), Value(data=0.14229753823491134, grad=0.2845950764698227), Value(data=0.07137517085051147, grad=0.14275034170102294), Value(data=0.08593548199311937, grad=0.17187096398623875), Value(data=0.0992067355243456, grad=0.1984134710486912), Value(data=0.1320576488170085, grad=0.264115297634017), Value(data=0.08323699319675593, grad=0.16647398639351185)], [Value(data=0.07383799514977528, grad=0.14767599029955056), Value(data=0.09202314208265829, grad=0.18404628416531657), Value(data=0.13561080910543516, grad=0.2712216182108703), Value(data=0.0782083370288909, grad=0.1564166740577818), Value(data=0.13783728007229157, grad=0.27567456014458314), Value(data=0.07027609439190934, grad=0.14055218878381867), Value(data=0.06583512872144774, grad=-1.8683297425571046), Value(data=0.12875146056639125, grad=0.2575029211327825), Value(data=0.13450899380754403, grad=0.26901798761508805), Value(data=0.08311075907365632, grad=0.16622151814731265)], [Value(data=0.09427149231834792, grad=0.18854298463669583), Value(data=0.0710316392171454, grad=0.1420632784342908), Value(data=0.13123734812215176, grad=0.26247469624430353), Value(data=0.09161951244107257, grad=0.18323902488214514), Value(data=0.1365392215187876, grad=0.2730784430375752), Value(data=0.07494809315307321, grad=0.14989618630614643), Value(data=0.0794985375176503, grad=0.1589970750353006), Value(data=0.11314478814800587, grad=-1.7737104237039882), Value(data=0.12033678355560523, grad=0.24067356711121046), Value(data=0.08737258400816017, grad=0.17474516801632034)], [Value(data=0.07519858902815524, grad=0.15039717805631048), Value(data=0.07588852624962981, grad=0.15177705249925963), Value(data=0.12965121037440056, grad=-1.740697579251199), Value(data=0.0847963274545546, grad=0.1695926549091092), Value(data=0.1340444179911794, grad=0.2680888359823588), Value(data=0.07930172203852026, grad=0.15860344407704052), Value(data=0.07460262551371835, grad=0.1492052510274367), Value(data=0.12265160208064263, grad=0.24530320416128526), Value(data=0.13217393837206542, grad=0.26434787674413085), Value(data=0.09169104089713373, grad=0.18338208179426746)], [Value(data=0.08317136360923065, grad=0.1663427272184613), Value(data=0.06403604701150872, grad=0.12807209402301745), Value(data=0.12927949730480098, grad=0.25855899460960197), Value(data=0.08861595632748988, grad=0.17723191265497976), Value(data=0.13443534959668998, grad=0.26887069919337997), Value(data=0.0821992088519232, grad=0.1643984177038464), Value(data=0.07876364101680776, grad=-1.8424727179663845), Value(data=0.11891954453039011, grad=0.23783908906078022), Value(data=0.12085934949853817, grad=0.24171869899707635), Value(data=0.0997200422526205, grad=0.199440084505241)], [Value(data=0.080340585663044, grad=0.160681171326088), Value(data=0.06737784905247376, grad=0.13475569810494753), Value(data=0.13491408986656483, grad=0.26982817973312967), Value(data=0.08101661568804923, grad=0.16203323137609846), Value(data=0.13674779730841088, grad=-1.7265044053831782), Value(data=0.07628034164221276, grad=0.1525606832844255), Value(data=0.07014452658333557, grad=0.14028905316667115), Value(data=0.12571224201610096, grad=0.2514244840322019), Value(data=0.12645897132902909, grad=0.25291794265805817), Value(data=0.1010069808507789, grad=0.2020139617015578)], [Value(data=0.09427149231834792, grad=0.18854298463669583), Value(data=0.0710316392171454, grad=0.1420632784342908), Value(data=0.13123734812215176, grad=0.26247469624430353), Value(data=0.09161951244107257, grad=0.18323902488214514), Value(data=0.1365392215187876, grad=0.2730784430375752), Value(data=0.07494809315307321, grad=0.14989618630614643), Value(data=0.0794985375176503, grad=0.1589970750353006), Value(data=0.11314478814800587, grad=-1.7737104237039882), Value(data=0.12033678355560523, grad=0.24067356711121046), Value(data=0.08737258400816017, grad=0.17474516801632034)], [Value(data=0.0907849987578566, grad=0.1815699975157132), Value(data=0.08683076358165695, grad=-1.826338472836686), Value(data=0.13300919846998205, grad=0.2660183969399641), Value(data=0.08503451392391323, grad=0.17006902784782646), Value(data=0.13641503905447103, grad=0.27283007810894205), Value(data=0.07204932921277232, grad=0.14409865842554465), Value(data=0.07815567783379354, grad=0.15631135566758708), Value(data=0.11723997160577578, grad=0.23447994321155155), Value(data=0.12579510965843643, grad=0.25159021931687287), Value(data=0.07468539790134199, grad=0.14937079580268398)], [Value(data=0.07988877911788644, grad=0.1597775582357729), Value(data=0.07486660529742899, grad=0.14973321059485797), Value(data=0.11940055816324922, grad=0.23880111632649845), Value(data=0.1034623548306776, grad=0.2069247096613552), Value(data=0.13564820756952298, grad=0.27129641513904595), Value(data=0.08185109756253785, grad=0.1637021951250757), Value(data=0.0949668369846412, grad=0.1899336739692824), Value(data=0.10082689410130147, grad=-1.798346211797397), Value(data=0.12526350823224072, grad=0.25052701646448144), Value(data=0.08382515814051339, grad=0.16765031628102678)], [Value(data=0.08062404794556176, grad=0.16124809589112352), Value(data=0.08064210765879232, grad=0.16128421531758463), Value(data=0.1383776319416577, grad=0.2767552638833154), Value(data=0.0774118792754877, grad=0.1548237585509754), Value(data=0.1394002606833694, grad=0.2788005213667388), Value(data=0.06902983712223286, grad=0.13805967424446572), Value(data=0.06336354347790955, grad=0.1267270869558191), Value(data=0.13065783231099531, grad=0.26131566462199063), Value(data=0.13127483786748767, grad=-1.7374503242650245), Value(data=0.08921802171650592, grad=0.17843604343301184)], [Value(data=0.0805774464666186, grad=0.1611548929332372), Value(data=0.0679824487101753, grad=0.1359648974203506), Value(data=0.12389612399245879, grad=-1.7522077520150825), Value(data=0.09044087162771351, grad=0.18088174325542702), Value(data=0.1296854733956072, grad=0.2593709467912144), Value(data=0.08627324790485835, grad=0.1725464958097167), Value(data=0.08132203847303009, grad=0.16264407694606017), Value(data=0.11909743084884564, grad=0.23819486169769127), Value(data=0.1250441580326726, grad=0.2500883160653452), Value(data=0.09568076054801986, grad=0.1913615210960397)], [Value(data=0.07579032272346119, grad=0.15158064544692237), Value(data=0.079863157104901, grad=0.159726314209802), Value(data=0.13587972552123592, grad=0.27175945104247184), Value(data=0.07700870659793256, grad=0.15401741319586512), Value(data=0.13643011917379688, grad=0.27286023834759376), Value(data=0.07477409696122456, grad=0.1495481939224491), Value(data=0.06329991533356553, grad=0.12659983066713107), Value(data=0.13423558360299126, grad=0.2684711672059825), Value(data=0.13164478755970688, grad=0.26328957511941375), Value(data=0.09107358542118417, grad=-1.8178528291576317)], [Value(data=0.09153651656043477, grad=0.18307303312086953), Value(data=0.06995185752204483, grad=0.13990371504408966), Value(data=0.1370142144096499, grad=0.2740284288192998), Value(data=0.08070208530384018, grad=0.16140417060768036), Value(data=0.13845102138662205, grad=0.2769020427732441), Value(data=0.07313711807318622, grad=0.14627423614637244), Value(data=0.07123494752172062, grad=0.14246989504344124), Value(data=0.1255541818070198, grad=0.2511083636140396), Value(data=0.12193010978803306, grad=0.24386021957606613), Value(data=0.09048794762744881, grad=-1.8190241047451023)], [Value(data=0.07043357077474233, grad=0.14086714154948465), Value(data=0.07152611936248125, grad=0.1430522387249625), Value(data=0.12562229609715816, grad=0.25124459219431633), Value(data=0.0835139071845772, grad=0.1670278143691544), Value(data=0.12882808468102513, grad=-1.7423438306379497), Value(data=0.08354601620465825, grad=0.1670920324093165), Value(data=0.07431149216716795, grad=0.1486229843343359), Value(data=0.12548263518945954, grad=0.2509652703789191), Value(data=0.13475731432114518, grad=0.26951462864229037), Value(data=0.10197856401758507, grad=0.20395712803517013)], [Value(data=0.09886558074197985, grad=0.1977311614839597), Value(data=0.06494480883434217, grad=0.12988961766868434), Value(data=0.12315249483475839, grad=0.24630498966951678), Value(data=0.0963536194991935, grad=0.192707238998387), Value(data=0.12959336321726322, grad=0.25918672643452645), Value(data=0.0865782469026156, grad=0.1731564938052312), Value(data=0.08696092584043677, grad=0.17392185168087354), Value(data=0.11340977539757446, grad=0.22681955079514893), Value(data=0.11259427638068029, grad=-1.7748114472386394), Value(data=0.0875469083511559, grad=0.1750938167023118)], [Value(data=0.09427149231834792, grad=0.18854298463669583), Value(data=0.0710316392171454, grad=0.1420632784342908), Value(data=0.13123734812215176, grad=-1.7375253037556964), Value(data=0.09161951244107257, grad=0.18323902488214514), Value(data=0.1365392215187876, grad=0.2730784430375752), Value(data=0.07494809315307321, grad=0.14989618630614643), Value(data=0.0794985375176503, grad=0.1589970750353006), Value(data=0.11314478814800587, grad=0.22628957629601174), Value(data=0.12033678355560523, grad=0.24067356711121046), Value(data=0.08737258400816017, grad=0.17474516801632034)], [Value(data=0.10121274732401904, grad=0.20242549464803808), Value(data=0.07008765695767634, grad=0.14017531391535268), Value(data=0.12522909674500182, grad=0.25045819349000364), Value(data=0.09574201709879437, grad=0.19148403419758875), Value(data=0.13142030866870794, grad=0.26284061733741587), Value(data=0.0820628928157347, grad=0.1641257856314694), Value(data=0.08506288790822668, grad=0.17012577581645336), Value(data=0.11156333701765984, grad=0.2231266740353197), Value(data=0.11495574410285893, grad=-1.7700885117942822), Value(data=0.08266331136132046, grad=0.16532662272264093)], [Value(data=0.08062404794556176, grad=0.16124809589112352), Value(data=0.08064210765879232, grad=0.16128421531758463), Value(data=0.1383776319416577, grad=0.2767552638833154), Value(data=0.0774118792754877, grad=0.1548237585509754), Value(data=0.1394002606833694, grad=0.2788005213667388), Value(data=0.06902983712223286, grad=0.13805967424446572), Value(data=0.06336354347790955, grad=0.1267270869558191), Value(data=0.13065783231099531, grad=0.26131566462199063), Value(data=0.13127483786748767, grad=-1.7374503242650245), Value(data=0.08921802171650592, grad=0.17843604343301184)], [Value(data=0.08516251651814907, grad=0.17032503303629815), Value(data=0.09778547123172046, grad=0.19557094246344092), Value(data=0.13907948203530152, grad=0.27815896407060303), Value(data=0.06289625067456692, grad=0.12579250134913383), Value(data=0.13710528064411434, grad=0.2742105612882287), Value(data=0.06872900535189588, grad=-1.8625419892962083), Value(data=0.06945764370296191, grad=0.13891528740592382), Value(data=0.13507501183922604, grad=0.2701500236784521), Value(data=0.12048923180483624, grad=0.24097846360967248), Value(data=0.08422010619722761, grad=0.16844021239445522)], [Value(data=0.08618224680859198, grad=-1.827635506382816), Value(data=0.0807857199744182, grad=0.1615714399488364), Value(data=0.12696342052612788, grad=0.25392684105225577), Value(data=0.09117111687786787, grad=0.18234223375573574), Value(data=0.13137146621042986, grad=0.2627429324208597), Value(data=0.08093426755108714, grad=0.16186853510217428), Value(data=0.08238138087040685, grad=0.1647627617408137), Value(data=0.11660660779754232, grad=0.23321321559508465), Value(data=0.1298811925376426, grad=0.2597623850752852), Value(data=0.0737225808458853, grad=0.1474451616917706)], [Value(data=0.09886558074197985, grad=0.1977311614839597), Value(data=0.06494480883434217, grad=0.12988961766868434), Value(data=0.12315249483475839, grad=0.24630498966951678), Value(data=0.0963536194991935, grad=0.192707238998387), Value(data=0.12959336321726322, grad=0.25918672643452645), Value(data=0.0865782469026156, grad=0.1731564938052312), Value(data=0.08696092584043677, grad=0.17392185168087354), Value(data=0.11340977539757446, grad=0.22681955079514893), Value(data=0.11259427638068029, grad=0.22518855276136057), Value(data=0.0875469083511559, grad=-1.8249061832976883)], [Value(data=0.06534907475165566, grad=0.13069814950331132), Value(data=0.09982894947038656, grad=0.19965789894077313), Value(data=0.13107897225124146, grad=0.2621579445024829), Value(data=0.07136843887694366, grad=0.14273687775388733), Value(data=0.1306745832996763, grad=0.2613491665993526), Value(data=0.07490633313233494, grad=0.14981266626466988), Value(data=0.0616241315535462, grad=0.1232482631070924), Value(data=0.13685276766877544, grad=0.2737055353375509), Value(data=0.13531744125227818, grad=-1.7293651174954436), Value(data=0.09299930774316151, grad=0.18599861548632302)], [Value(data=0.10295177120445202, grad=0.20590354240890404), Value(data=0.06788753124687681, grad=0.13577506249375362), Value(data=0.1256937452155142, grad=0.2513874904310284), Value(data=0.09518017221452076, grad=0.1903603444290415), Value(data=0.131144672129347, grad=-1.737710655741306), Value(data=0.08140908864552833, grad=0.16281817729105666), Value(data=0.08432527721875041, grad=0.16865055443750082), Value(data=0.11242398029416285, grad=0.2248479605883257), Value(data=0.11345183434115014, grad=0.22690366868230027), Value(data=0.0855319274896975, grad=0.171063854979395)]]\n"
     ]
    }
   ],
   "source": [
    "for k in range(10):\n",
    "    # generate random sample\n",
    "    samp = np.random.randint(0, x_train.shape[0], size=batch_size)\n",
    "    xs = x_train[samp].reshape(x_train[samp].shape[0], -1)\n",
    "    ys = y_train[samp]\n",
    "    \n",
    "    # forward pass\n",
    "    predictions = [net(x) for x in xs]\n",
    "    ypred = [softmax(pred) for pred in predictions]\n",
    "    encoded_ys = encode_ys(ys)\n",
    "    loss = nice_mse(ypred, encoded_ys)\n",
    "\n",
    "    # backward pass\n",
    "    net.zero_grad()\n",
    "    loss.backward()\n",
    "    \n",
    "    # update\n",
    "    for p in net.parameters:\n",
    "        p.data += -0.1 * p.grad\n",
    "    \n",
    "    print(k, loss.data)\n",
    "        \n",
    "print(ypred)"
   ],
   "metadata": {
    "collapsed": false,
    "ExecuteTime": {
     "end_time": "2023-09-16T21:57:21.551232800Z",
     "start_time": "2023-09-16T21:56:09.244553700Z"
    }
   },
   "id": "e8714e2f36b8180d"
  }
 ],
 "metadata": {
  "kernelspec": {
   "display_name": "Python 3",
   "language": "python",
   "name": "python3"
  },
  "language_info": {
   "codemirror_mode": {
    "name": "ipython",
    "version": 2
   },
   "file_extension": ".py",
   "mimetype": "text/x-python",
   "name": "python",
   "nbconvert_exporter": "python",
   "pygments_lexer": "ipython2",
   "version": "2.7.6"
  }
 },
 "nbformat": 4,
 "nbformat_minor": 5
}
