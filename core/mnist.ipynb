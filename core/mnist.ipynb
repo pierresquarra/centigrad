{
 "cells": [
  {
   "cell_type": "code",
   "execution_count": 1,
   "id": "initial_id",
   "metadata": {
    "collapsed": true,
    "ExecuteTime": {
     "end_time": "2023-09-16T19:44:48.752523500Z",
     "start_time": "2023-09-16T19:44:46.658372600Z"
    }
   },
   "outputs": [],
   "source": [
    "import tensorflow as tf\n",
    "(x_train, y_train), (x_test, y_test) = tf.keras.datasets.mnist.load_data()"
   ]
  },
  {
   "cell_type": "code",
   "execution_count": 2,
   "outputs": [
    {
     "data": {
      "text/plain": "<Figure size 1000x1000 with 9 Axes>",
      "image/png": "[encoded data removed]"
     },
     "metadata": {},
     "output_type": "display_data"
    }
   ],
   "source": [
    "import matplotlib.pyplot as plt\n",
    "\n",
    "fig, axs = plt.subplots(3, 3, figsize=(10, 10))\n",
    "plt.gray()\n",
    "for i, ax in enumerate(axs.flat):\n",
    "    ax.imshow(x_train[i])\n",
    "    ax.axis('off')\n",
    "    ax.set_title('Number {}'.format(y_train[i]))\n",
    "    \n",
    "plt.show()"
   ],
   "metadata": {
    "collapsed": false,
    "ExecuteTime": {
     "end_time": "2023-09-16T19:44:49.322717100Z",
     "start_time": "2023-09-16T19:44:48.752523500Z"
    }
   },
   "id": "536623210cee28aa"
  },
  {
   "cell_type": "code",
   "execution_count": 3,
   "outputs": [
    {
     "data": {
      "text/plain": "(60000, 28, 28)"
     },
     "execution_count": 3,
     "metadata": {},
     "output_type": "execute_result"
    }
   ],
   "source": [
    "x_train.shape"
   ],
   "metadata": {
    "collapsed": false,
    "ExecuteTime": {
     "end_time": "2023-09-16T19:44:49.327985400Z",
     "start_time": "2023-09-16T19:44:49.325843500Z"
    }
   },
   "id": "564486f0a7147aaa"
  },
  {
   "cell_type": "code",
   "execution_count": 4,
   "outputs": [
    {
     "data": {
      "text/plain": "(60000, 784)"
     },
     "execution_count": 4,
     "metadata": {},
     "output_type": "execute_result"
    }
   ],
   "source": [
    "import numpy as np\n",
    "new = x_train.reshape(x_train.shape[0], -1)\n",
    "new.shape"
   ],
   "metadata": {
    "collapsed": false,
    "ExecuteTime": {
     "end_time": "2023-09-16T19:44:49.333827500Z",
     "start_time": "2023-09-16T19:44:49.327985400Z"
    }
   },
   "id": "7f501a7c83ec063e"
  },
  {
   "cell_type": "code",
   "execution_count": 5,
   "outputs": [
    {
     "data": {
      "text/plain": "[784, 16, 16, 10]"
     },
     "execution_count": 5,
     "metadata": {},
     "output_type": "execute_result"
    }
   ],
   "source": [
    "from core.nn import NN\n",
    "from core.plot import draw_dot\n",
    "net = NN(784, [16, 16, 10])\n",
    "net.layer_sizes"
   ],
   "metadata": {
    "collapsed": false,
    "ExecuteTime": {
     "end_time": "2023-09-16T19:44:49.496802900Z",
     "start_time": "2023-09-16T19:44:49.333827500Z"
    }
   },
   "id": "94260cc509883ac8"
  },
  {
   "cell_type": "code",
   "execution_count": 6,
   "outputs": [],
   "source": [
    "batch_size = 1\n",
    "losses, accuracies = [], []"
   ],
   "metadata": {
    "collapsed": false,
    "ExecuteTime": {
     "end_time": "2023-09-16T19:44:49.496802900Z",
     "start_time": "2023-09-16T19:44:49.492288600Z"
    }
   },
   "id": "9c425e104d2f3ad6"
  },
  {
   "cell_type": "code",
   "execution_count": 7,
   "outputs": [
    {
     "data": {
      "text/plain": "array([33613])"
     },
     "execution_count": 7,
     "metadata": {},
     "output_type": "execute_result"
    }
   ],
   "source": [
    "samp = np.random.randint(0, x_train.shape[0], size=batch_size)\n",
    "samp"
   ],
   "metadata": {
    "collapsed": false,
    "ExecuteTime": {
     "end_time": "2023-09-16T19:44:49.502205900Z",
     "start_time": "2023-09-16T19:44:49.496802900Z"
    }
   },
   "id": "95afb6979cad7f42"
  },
  {
   "cell_type": "code",
   "execution_count": 8,
   "outputs": [
    {
     "name": "stdout",
     "output_type": "stream",
     "text": [
      "(1, 28, 28)\n",
      "(1, 784)\n",
      "(1,)\n"
     ]
    }
   ],
   "source": [
    "print(x_train[samp].shape)\n",
    "print(x_train[samp].reshape(x_train[samp].shape[0], -1).shape)\n",
    "x = x_train[samp].reshape(x_train[samp].shape[0], -1)\n",
    "print(y_train[samp].shape)"
   ],
   "metadata": {
    "collapsed": false,
    "ExecuteTime": {
     "end_time": "2023-09-16T19:44:49.513123900Z",
     "start_time": "2023-09-16T19:44:49.502205900Z"
    }
   },
   "id": "e2335bebe53a2630"
  },
  {
   "cell_type": "code",
   "execution_count": 9,
   "outputs": [],
   "source": [
    "from core.functional import softmax\n",
    "from core.engine import Value\n",
    "net.zero_grad()\n",
    "floats = np.array(x, dtype=float)\n",
    "xs = floats.tolist()\n",
    "ys = np.array(y_train, dtype=float)"
   ],
   "metadata": {
    "collapsed": false,
    "ExecuteTime": {
     "end_time": "2023-09-16T19:44:49.543933900Z",
     "start_time": "2023-09-16T19:44:49.508624100Z"
    }
   },
   "id": "efd6dd4969a27c8d"
  },
  {
   "cell_type": "code",
   "execution_count": 11,
   "outputs": [
    {
     "name": "stderr",
     "output_type": "stream",
     "text": [
      "C:\\Users\\pierr\\Git\\deep-learning-framework\\core\\engine.py:94: RuntimeWarning: overflow encountered in exp\n",
      "  data = (np.exp(2 * x) - 1) / (np.exp(2 * x) + 1)\n",
      "C:\\Users\\pierr\\Git\\deep-learning-framework\\core\\engine.py:94: RuntimeWarning: invalid value encountered in scalar divide\n",
      "  data = (np.exp(2 * x) - 1) / (np.exp(2 * x) + 1)\n"
     ]
    },
    {
     "name": "stdout",
     "output_type": "stream",
     "text": [
      "0 25.0\n",
      "10 25.0\n",
      "20 25.0\n",
      "30 25.0\n",
      "40 25.0\n",
      "50 25.0\n",
      "60 25.0\n",
      "70 25.0\n",
      "80 25.0\n",
      "90 25.0\n",
      "[0]\n"
     ]
    }
   ],
   "source": [
    "for k in range(100):\n",
    "    # forward pass\n",
    "    pre = [net(x) for x in xs]\n",
    "    sm = [softmax(pred) for pred in pre]\n",
    "    ypred = [np.argmax(s) for s in sm]\n",
    "    loss = Value(sum((yout - ygt) ** 2 for ygt, yout in zip(ys, ypred)))\n",
    "\n",
    "    # backward pass\n",
    "    net.zero_grad()\n",
    "    loss.backward()\n",
    "    \n",
    "    # update\n",
    "    for p in net.parameters:\n",
    "        p.data += -0.1 * p.grad\n",
    "        \n",
    "    if k % 10 == 0:\n",
    "        print(k, loss.data)\n",
    "        \n",
    "print(ypred)"
   ],
   "metadata": {
    "collapsed": false,
    "ExecuteTime": {
     "end_time": "2023-09-16T19:46:23.908112500Z",
     "start_time": "2023-09-16T19:45:11.349127500Z"
    }
   },
   "id": "e8714e2f36b8180d"
  },
  {
   "cell_type": "code",
   "execution_count": 10,
   "outputs": [],
   "source": [],
   "metadata": {
    "collapsed": false,
    "ExecuteTime": {
     "end_time": "2023-09-16T19:44:56.561063500Z",
     "start_time": "2023-09-16T19:44:56.560557400Z"
    }
   },
   "id": "e48ceeb32d7399a8"
  }
 ],
 "metadata": {
  "kernelspec": {
   "display_name": "Python 3",
   "language": "python",
   "name": "python3"
  },
  "language_info": {
   "codemirror_mode": {
    "name": "ipython",
    "version": 2
   },
   "file_extension": ".py",
   "mimetype": "text/x-python",
   "name": "python",
   "nbconvert_exporter": "python",
   "pygments_lexer": "ipython2",
   "version": "2.7.6"
  }
 },
 "nbformat": 4,
 "nbformat_minor": 5
}
