{
 "cells": [
  {
   "cell_type": "code",
   "execution_count": 46,
   "id": "initial_id",
   "metadata": {
    "collapsed": true,
    "ExecuteTime": {
     "end_time": "2023-09-17T19:16:29.829545900Z",
     "start_time": "2023-09-17T19:16:29.805182700Z"
    }
   },
   "outputs": [],
   "source": [
    "from engine import Value\n",
    "from nn import Neuron, Layer, NN\n",
    "from new import Linear, ReLU, Sigmoid, Softmax\n",
    "from losses import MSELoss, CrossEntropyLoss\n",
    "import numpy as np"
   ]
  },
  {
   "cell_type": "markdown",
   "source": [
    "### Neuron Testing"
   ],
   "metadata": {
    "collapsed": false
   },
   "id": "dab4db82f56ae9fe"
  },
  {
   "cell_type": "code",
   "execution_count": 47,
   "outputs": [
    {
     "name": "stdout",
     "output_type": "stream",
     "text": [
      "16\n",
      "Neuron with 16 inputs\n",
      "act Value(data=6.178848675993794, grad=0.0)\n",
      "out Value(data=0.9979314747053563, grad=0.0)\n"
     ]
    }
   ],
   "source": [
    "num_inputs = 16\n",
    "x = [np.random.uniform() for _ in range(num_inputs)]\n",
    "print(len(x))\n",
    "n = Neuron(num_inputs)\n",
    "print(n)\n",
    "act = sum((wi*xi for wi, xi in zip(n.weights, x)), n.bias)\n",
    "print(f\"act {act}\")\n",
    "out = act.sigmoid()\n",
    "print(f\"out {out}\")"
   ],
   "metadata": {
    "collapsed": false,
    "ExecuteTime": {
     "end_time": "2023-09-17T19:16:29.838777200Z",
     "start_time": "2023-09-17T19:16:29.808704700Z"
    }
   },
   "id": "18a8d0d3413c026d"
  },
  {
   "cell_type": "markdown",
   "source": [
    "### Layer Testing"
   ],
   "metadata": {
    "collapsed": false
   },
   "id": "d802d5f2a0f5cd3c"
  },
  {
   "cell_type": "code",
   "execution_count": 48,
   "outputs": [
    {
     "name": "stdout",
     "output_type": "stream",
     "text": [
      "170 parameters\n",
      "10 outs\n"
     ]
    }
   ],
   "source": [
    "layer = Layer(16, 10)\n",
    "print(f\"{len(layer.parameters)} parameters\")\n",
    "outs = [n(x) for n in layer.neurons]\n",
    "print(f\"{len(outs)} outs\")"
   ],
   "metadata": {
    "collapsed": false,
    "ExecuteTime": {
     "end_time": "2023-09-17T19:16:29.838777200Z",
     "start_time": "2023-09-17T19:16:29.811175400Z"
    }
   },
   "id": "ed89471a62dbf73a"
  },
  {
   "cell_type": "markdown",
   "source": [
    "### Neural Network Testing"
   ],
   "metadata": {
    "collapsed": false
   },
   "id": "78b24fade1c59fa0"
  },
  {
   "cell_type": "code",
   "execution_count": 49,
   "outputs": [
    {
     "name": "stdout",
     "output_type": "stream",
     "text": [
      "[16, 3, 10]\n",
      "[Layer with 3 neurons, Layer with 10 neurons]\n",
      "91\n",
      "[Value(data=0.15813231296387112, grad=0.0), Value(data=0.8583691188210212, grad=0.0), Value(data=0.40308045490959865, grad=0.0), Value(data=0.2975470385483597, grad=0.0), Value(data=0.668085294559005, grad=0.0), Value(data=0.32141532837439774, grad=0.0), Value(data=0.3549370865496695, grad=0.0), Value(data=0.25161595621650895, grad=0.0), Value(data=0.07249621391165029, grad=0.0), Value(data=0.36578087110169927, grad=0.0)]\n"
     ]
    }
   ],
   "source": [
    "nn = NN(16, [3, 10])\n",
    "print(nn.layer_sizes)\n",
    "print(nn.layers)\n",
    "print(len(nn.parameters))\n",
    "z = 4\n",
    "out = nn(x)\n",
    "print(out)"
   ],
   "metadata": {
    "collapsed": false,
    "ExecuteTime": {
     "end_time": "2023-09-17T19:16:29.878887100Z",
     "start_time": "2023-09-17T19:16:29.818866900Z"
    }
   },
   "id": "86f2160af34523f3"
  },
  {
   "cell_type": "markdown",
   "source": [
    "### Linear Testing"
   ],
   "metadata": {
    "collapsed": false
   },
   "id": "f8598fadb02f81ef"
  },
  {
   "cell_type": "code",
   "execution_count": 50,
   "outputs": [
    {
     "data": {
      "text/plain": "array([Value(data=-0.13772626861472548, grad=0.0),\n       Value(data=-0.07779865562257432, grad=0.0),\n       Value(data=0.2826583137208219, grad=0.0),\n       Value(data=0.3714586377729966, grad=0.0),\n       Value(data=-0.010620198765933843, grad=0.0),\n       Value(data=-0.48688048275137263, grad=0.0),\n       Value(data=0.4660290399279994, grad=0.0),\n       Value(data=-0.06946303524319547, grad=0.0),\n       Value(data=0.019865646917283618, grad=0.0),\n       Value(data=0.17888545225045716, grad=0.0)], dtype=object)"
     },
     "execution_count": 50,
     "metadata": {},
     "output_type": "execute_result"
    }
   ],
   "source": [
    "linear = Linear(16, 10)\n",
    "x = np.arange(0, 16, 1)\n",
    "out = linear.forward(x)\n",
    "out"
   ],
   "metadata": {
    "collapsed": false,
    "ExecuteTime": {
     "end_time": "2023-09-17T19:16:29.908999100Z",
     "start_time": "2023-09-17T19:16:29.822157600Z"
    }
   },
   "id": "57ff276931606ab1"
  },
  {
   "cell_type": "markdown",
   "source": [
    "### Activation Testing"
   ],
   "metadata": {
    "collapsed": false
   },
   "id": "e912ee74319aec5a"
  },
  {
   "cell_type": "code",
   "execution_count": 51,
   "outputs": [
    {
     "name": "stdout",
     "output_type": "stream",
     "text": [
      "[Value(data=0.0, grad=0.0) Value(data=0.0, grad=0.0)\n",
      " Value(data=0.2826583137208219, grad=0.0)\n",
      " Value(data=0.3714586377729966, grad=0.0) Value(data=0.0, grad=0.0)\n",
      " Value(data=0.0, grad=0.0) Value(data=0.4660290399279994, grad=0.0)\n",
      " Value(data=0.0, grad=0.0) Value(data=0.019865646917283618, grad=0.0)\n",
      " Value(data=0.17888545225045716, grad=0.0)]\n",
      "[Value(data=0.4656227561424175, grad=0.0)\n",
      " Value(data=0.4805601402965384, grad=0.0)\n",
      " Value(data=0.5701978241151552, grad=0.0)\n",
      " Value(data=0.5918113896673084, grad=0.0)\n",
      " Value(data=0.49734497526318466, grad=0.0)\n",
      " Value(data=0.3806287210478959, grad=0.0)\n",
      " Value(data=0.6144434538013581, grad=0.0)\n",
      " Value(data=0.4826412204677394, grad=0.0)\n",
      " Value(data=0.5049662484054138, grad=0.0)\n",
      " Value(data=0.5446024864663945, grad=0.0)]\n"
     ]
    }
   ],
   "source": [
    "relu = ReLU().forward(out)\n",
    "print(relu)\n",
    "sigmoid = Sigmoid().forward(out)\n",
    "print(sigmoid)"
   ],
   "metadata": {
    "collapsed": false,
    "ExecuteTime": {
     "end_time": "2023-09-17T19:16:29.908999100Z",
     "start_time": "2023-09-17T19:16:29.829545900Z"
    }
   },
   "id": "c6ba7855c1f7ef66"
  },
  {
   "cell_type": "markdown",
   "source": [
    "### Softmax Testing"
   ],
   "metadata": {
    "collapsed": false
   },
   "id": "68bb382d1db43601"
  },
  {
   "cell_type": "code",
   "execution_count": 52,
   "outputs": [
    {
     "name": "stdout",
     "output_type": "stream",
     "text": [
      "[Value(data=-0.13772626861472548, grad=0.0)\n",
      " Value(data=-0.07779865562257432, grad=0.0)\n",
      " Value(data=0.2826583137208219, grad=0.0)\n",
      " Value(data=0.3714586377729966, grad=0.0)\n",
      " Value(data=-0.010620198765933843, grad=0.0)\n",
      " Value(data=-0.48688048275137263, grad=0.0)\n",
      " Value(data=0.4660290399279994, grad=0.0)\n",
      " Value(data=-0.06946303524319547, grad=0.0)\n",
      " Value(data=0.019865646917283618, grad=0.0)\n",
      " Value(data=0.17888545225045716, grad=0.0)]\n",
      "[Value(data=0.07979672787533024, grad=0.0)\n",
      " Value(data=0.08472494874525108, grad=0.0)\n",
      " Value(data=0.12149426765605872, grad=0.0)\n",
      " Value(data=0.13277651890500197, grad=0.0)\n",
      " Value(data=0.09061217350275809, grad=0.0)\n",
      " Value(data=0.056279383915424815, grad=0.0)\n",
      " Value(data=0.1459461631401079, grad=0.0)\n",
      " Value(data=0.08543413540369757, grad=0.0)\n",
      " Value(data=0.09341710028863132, grad=0.0)\n",
      " Value(data=0.10951858056773829, grad=0.0)]\n",
      "Value(data=1.0, grad=0.0)\n"
     ]
    },
    {
     "data": {
      "text/plain": "array([Value(data=0.8713371714355996, grad=0.0),\n       Value(data=0.9251506816802256, grad=0.0),\n       Value(data=1.326651785652956, grad=0.0),\n       Value(data=1.4498478759242113, grad=0.0),\n       Value(data=0.9894359964343122, grad=0.0),\n       Value(data=0.6145404767425935, grad=0.0),\n       Value(data=1.59365327825297, grad=0.0),\n       Value(data=0.932894616969854, grad=0.0),\n       Value(data=1.0200642820390196, grad=0.0),\n       Value(data=1.1958837505295388, grad=0.0)], dtype=object)"
     },
     "execution_count": 52,
     "metadata": {},
     "output_type": "execute_result"
    }
   ],
   "source": [
    "softmax = Softmax().forward(out)\n",
    "print(out)\n",
    "print(softmax)\n",
    "print(np.sum(softmax))\n",
    "exp_values = np.array([value.exp() for value in out])\n",
    "exp_values"
   ],
   "metadata": {
    "collapsed": false,
    "ExecuteTime": {
     "end_time": "2023-09-17T19:16:29.908999100Z",
     "start_time": "2023-09-17T19:16:29.835260600Z"
    }
   },
   "id": "ae29260d856080d7"
  },
  {
   "cell_type": "markdown",
   "source": [
    "### Loss Testing"
   ],
   "metadata": {
    "collapsed": false
   },
   "id": "f35fa38ce920e5cd"
  },
  {
   "cell_type": "code",
   "execution_count": 53,
   "outputs": [
    {
     "name": "stdout",
     "output_type": "stream",
     "text": [
      "Value(data=27.297793290506014, grad=0.0)\n"
     ]
    }
   ],
   "source": [
    "loss_fn = MSELoss()\n",
    "labels = np.vectorize(Value)(np.arange(0, 10, 1))\n",
    "loss = loss_fn.forward(relu, labels)\n",
    "print(loss)"
   ],
   "metadata": {
    "collapsed": false,
    "ExecuteTime": {
     "end_time": "2023-09-17T19:16:29.908999100Z",
     "start_time": "2023-09-17T19:16:29.842236700Z"
    }
   },
   "id": "8af04deefde1287e"
  },
  {
   "cell_type": "code",
   "execution_count": 54,
   "outputs": [
    {
     "name": "stdout",
     "output_type": "stream",
     "text": [
      "[0 1 2 3 4 5 6 7 8 9]\n",
      "Value(data=23.369056658617062, grad=0.0)\n"
     ]
    }
   ],
   "source": [
    "loss_fn = CrossEntropyLoss()\n",
    "targets = np.arange(0, 10, 1)\n",
    "print(targets)\n",
    "loss = loss_fn.forward(softmax, targets)\n",
    "print(loss)"
   ],
   "metadata": {
    "collapsed": false,
    "ExecuteTime": {
     "end_time": "2023-09-17T19:16:29.908999100Z",
     "start_time": "2023-09-17T19:16:29.848795900Z"
    }
   },
   "id": "fefa34aa99adcf81"
  }
 ],
 "metadata": {
  "kernelspec": {
   "display_name": "Python 3",
   "language": "python",
   "name": "python3"
  },
  "language_info": {
   "codemirror_mode": {
    "name": "ipython",
    "version": 2
   },
   "file_extension": ".py",
   "mimetype": "text/x-python",
   "name": "python",
   "nbconvert_exporter": "python",
   "pygments_lexer": "ipython2",
   "version": "2.7.6"
  }
 },
 "nbformat": 4,
 "nbformat_minor": 5
}
