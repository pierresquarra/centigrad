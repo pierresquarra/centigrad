{
 "cells": [
  {
   "cell_type": "code",
   "execution_count": 1,
   "id": "initial_id",
   "metadata": {
    "collapsed": true,
    "ExecuteTime": {
     "end_time": "2023-09-16T20:59:43.384606600Z",
     "start_time": "2023-09-16T20:59:43.299062100Z"
    }
   },
   "outputs": [],
   "source": [
    "from core.nn import Neuron, Layer, NN\n",
    "from core.functional import softmax\n",
    "import numpy as np"
   ]
  },
  {
   "cell_type": "markdown",
   "source": [
    "### Neuron Testing"
   ],
   "metadata": {
    "collapsed": false
   },
   "id": "dab4db82f56ae9fe"
  },
  {
   "cell_type": "code",
   "execution_count": 13,
   "outputs": [
    {
     "name": "stdout",
     "output_type": "stream",
     "text": [
      "784\n",
      "Neuron with 784 inputs\n",
      "act Value(data=-19.226516414284646, grad=0.0)\n",
      "out Value(data=4.4671446251498295e-09, grad=0.0)\n"
     ]
    }
   ],
   "source": [
    "num_inputs = 784\n",
    "x = [np.random.uniform() for _ in range(num_inputs)]\n",
    "print(len(x))\n",
    "n = Neuron(num_inputs)\n",
    "print(n)\n",
    "act = sum((wi*xi for wi, xi in zip(n.weights, x)), n.bias)\n",
    "print(f\"act {act}\")\n",
    "out = act.sigmoid()\n",
    "print(f\"out {out}\")"
   ],
   "metadata": {
    "collapsed": false,
    "ExecuteTime": {
     "end_time": "2023-09-16T21:07:50.135922600Z",
     "start_time": "2023-09-16T21:07:50.119880100Z"
    }
   },
   "id": "18a8d0d3413c026d"
  },
  {
   "cell_type": "markdown",
   "source": [
    "### Layer Testing"
   ],
   "metadata": {
    "collapsed": false
   },
   "id": "d802d5f2a0f5cd3c"
  },
  {
   "cell_type": "code",
   "execution_count": 3,
   "outputs": [
    {
     "name": "stdout",
     "output_type": "stream",
     "text": [
      "170 parameters\n",
      "10 outs\n"
     ]
    }
   ],
   "source": [
    "layer = Layer(16, 10)\n",
    "print(f\"{len(layer.parameters)} parameters\")\n",
    "outs = [n(x) for n in layer.neurons]\n",
    "print(f\"{len(outs)} outs\")"
   ],
   "metadata": {
    "collapsed": false,
    "ExecuteTime": {
     "end_time": "2023-09-16T20:59:43.398141900Z",
     "start_time": "2023-09-16T20:59:43.393307600Z"
    }
   },
   "id": "ed89471a62dbf73a"
  },
  {
   "cell_type": "markdown",
   "source": [
    "### Neural Network Testing"
   ],
   "metadata": {
    "collapsed": false
   },
   "id": "78b24fade1c59fa0"
  },
  {
   "cell_type": "code",
   "execution_count": 4,
   "outputs": [
    {
     "name": "stdout",
     "output_type": "stream",
     "text": [
      "[16, 3, 10]\n",
      "[Layer with 3 neurons, Layer with 10 neurons]\n",
      "91\n",
      "[Value(data=0.594733318343234, grad=0.0), Value(data=0.5917233097904844, grad=0.0), Value(data=0.9569968544166868, grad=0.0), Value(data=0.169713008764424, grad=0.0), Value(data=0.3756629598952155, grad=0.0), Value(data=0.17713138402422615, grad=0.0), Value(data=0.745263813406202, grad=0.0), Value(data=0.2992110241810464, grad=0.0), Value(data=0.1651225479662673, grad=0.0), Value(data=0.5932591588080414, grad=0.0)]\n"
     ]
    }
   ],
   "source": [
    "nn = NN(16, [3, 10])\n",
    "print(nn.layer_sizes)\n",
    "print(nn.layers)\n",
    "print(len(nn.parameters))\n",
    "z = 4\n",
    "out = nn(x)\n",
    "print(out)"
   ],
   "metadata": {
    "collapsed": false,
    "ExecuteTime": {
     "end_time": "2023-09-16T20:59:43.404996100Z",
     "start_time": "2023-09-16T20:59:43.398141900Z"
    }
   },
   "id": "86f2160af34523f3"
  },
  {
   "cell_type": "markdown",
   "source": [
    "### Softmax Testing"
   ],
   "metadata": {
    "collapsed": false
   },
   "id": "8f1f097de4012456"
  },
  {
   "cell_type": "code",
   "execution_count": 7,
   "outputs": [
    {
     "name": "stdout",
     "output_type": "stream",
     "text": [
      "[Value(data=0.1098285467149688, grad=0.0), Value(data=0.10949845888284007, grad=0.0), Value(data=0.15777721709892367, grad=0.0), Value(data=0.07180112712151031, grad=0.0), Value(data=0.0882214495067484, grad=0.0), Value(data=0.07233575541139779, grad=0.0), Value(data=0.1276702768924846, grad=0.0), Value(data=0.08172812496291755, grad=0.0), Value(data=0.07147228221448325, grad=0.0), Value(data=0.10966676119372562, grad=0.0)]\n",
      "2\n"
     ]
    }
   ],
   "source": [
    "sm = softmax(out)\n",
    "print(sm)\n",
    "print(np.argmax(sm))"
   ],
   "metadata": {
    "collapsed": false,
    "ExecuteTime": {
     "end_time": "2023-09-16T21:00:35.802302800Z",
     "start_time": "2023-09-16T21:00:35.792372900Z"
    }
   },
   "id": "668401aa34c08f48"
  }
 ],
 "metadata": {
  "kernelspec": {
   "display_name": "Python 3",
   "language": "python",
   "name": "python3"
  },
  "language_info": {
   "codemirror_mode": {
    "name": "ipython",
    "version": 2
   },
   "file_extension": ".py",
   "mimetype": "text/x-python",
   "name": "python",
   "nbconvert_exporter": "python",
   "pygments_lexer": "ipython2",
   "version": "2.7.6"
  }
 },
 "nbformat": 4,
 "nbformat_minor": 5
}
