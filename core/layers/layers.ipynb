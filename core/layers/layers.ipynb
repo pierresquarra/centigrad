{
 "cells": [
  {
   "cell_type": "code",
   "execution_count": 2,
   "metadata": {},
   "outputs": [],
   "source": [
    "import numpy as np\n",
    "np.random.seed(0)"
   ]
  },
  {
   "cell_type": "markdown",
   "metadata": {},
   "source": [
    "### Shape and distribution of `rand` vs `randn`\n",
    "\n",
    "- Apparently i have to use (num_inputs, num_ouputs). This might be due to later dot product calculation. Intuitively i would have initialized it the other way around.\n",
    "- Using normal distribution instead of uniform distribution apparently helps preventing vanishing gradients"
   ]
  },
  {
   "cell_type": "code",
   "execution_count": 6,
   "metadata": {},
   "outputs": [
    {
     "name": "stdout",
     "output_type": "stream",
     "text": [
      "[[0.61209572 0.616934   0.94374808]\n",
      " [0.6818203  0.3595079  0.43703195]]\n",
      "[[-0.34791215  0.15634897  1.23029068]\n",
      " [ 1.20237985 -0.38732682 -0.30230275]]\n"
     ]
    }
   ],
   "source": [
    "num_inputs, num_outputs = 2, 3\n",
    "weights = np.random.rand(num_inputs, num_outputs) # uniform distribution\n",
    "weights2 = np.random.randn(num_inputs, num_outputs) # normal distribution\n",
    "print(weights)\n",
    "print(weights2)"
   ]
  },
  {
   "cell_type": "markdown",
   "metadata": {},
   "source": [
    "### Testing np.zeros() behaviour\n",
    "\n",
    "- The output looks different but in the implementation, it doesn't have an affect"
   ]
  },
  {
   "cell_type": "code",
   "execution_count": 7,
   "metadata": {},
   "outputs": [
    {
     "name": "stdout",
     "output_type": "stream",
     "text": [
      "[0. 0. 0.]\n",
      "[[0. 0. 0.]]\n"
     ]
    }
   ],
   "source": [
    "print(np.zeros((num_outputs)))\n",
    "print(np.zeros((1, num_outputs)))"
   ]
  }
 ],
 "metadata": {
  "kernelspec": {
   "display_name": "venv",
   "language": "python",
   "name": "python3"
  },
  "language_info": {
   "codemirror_mode": {
    "name": "ipython",
    "version": 3
   },
   "file_extension": ".py",
   "mimetype": "text/x-python",
   "name": "python",
   "nbconvert_exporter": "python",
   "pygments_lexer": "ipython3",
   "version": "3.11.5"
  },
  "orig_nbformat": 4
 },
 "nbformat": 4,
 "nbformat_minor": 2
}
