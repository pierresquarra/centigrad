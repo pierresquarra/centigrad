{
 "cells": [
  {
   "cell_type": "code",
   "execution_count": 1,
   "id": "initial_id",
   "metadata": {
    "collapsed": true,
    "ExecuteTime": {
     "end_time": "2023-09-18T13:54:32.372799500Z",
     "start_time": "2023-09-18T13:54:31.961151100Z"
    }
   },
   "outputs": [],
   "source": [
    "from centigrad.nn import Module, Linear, Tanh\n",
    "from centigrad.losses import MSELoss\n",
    "from utils.trace_graph import draw_dot\n",
    "import numpy as np\n",
    "import matplotlib.pyplot as plt"
   ]
  },
  {
   "cell_type": "code",
   "execution_count": 2,
   "outputs": [],
   "source": [
    "xs = np.random.randn(4, 3)\n",
    "ys = np.array([1.0, -1.0, -1.0, 1.0])"
   ],
   "metadata": {
    "collapsed": false,
    "ExecuteTime": {
     "end_time": "2023-09-18T13:54:32.388524700Z",
     "start_time": "2023-09-18T13:54:32.372799500Z"
    }
   },
   "id": "8b2d6e551c631de4"
  },
  {
   "cell_type": "code",
   "execution_count": 3,
   "outputs": [],
   "source": [
    "class BobNet(Module):\n",
    "    def __init__(self):\n",
    "        self.l1 = Linear(3, 4, low=-1.0)\n",
    "        self.a1 = Tanh()\n",
    "        self.l2 = Linear(4, 4, low=-1.0)\n",
    "        self.a2 = Tanh()\n",
    "        self.l3 = Linear(4, 1, low=-1.0)\n",
    "        self.a3 = Tanh()\n",
    "    def forward(self, inputs: np.ndarray):\n",
    "        out = self.l1.forward(inputs)\n",
    "        out = self.a1.forward(out)\n",
    "        out = self.l2.forward(out)\n",
    "        out = self.a2.forward(out)\n",
    "        out = self.l3.forward(out)\n",
    "        out = self.a3.forward(out)\n",
    "        return out\n",
    "    def parameters(self):\n",
    "        params = []\n",
    "        params.extend(self.l1.parameters())\n",
    "        params.extend(self.l2.parameters())\n",
    "        params.extend(self.l3.parameters())\n",
    "        return params\n",
    "    def zero_grad(self):\n",
    "        for p in self.parameters():\n",
    "            p.grad = 0.0\n",
    "    def update(self):\n",
    "        for p in model.parameters():\n",
    "            p.data += -0.1 * p.grad"
   ],
   "metadata": {
    "collapsed": false,
    "ExecuteTime": {
     "end_time": "2023-09-18T13:54:32.389031300Z",
     "start_time": "2023-09-18T13:54:32.381076100Z"
    }
   },
   "id": "1f93b98860d34124"
  },
  {
   "cell_type": "code",
   "execution_count": 4,
   "outputs": [],
   "source": [
    "model = BobNet()\n",
    "loss_function = MSELoss()\n",
    "losses = []"
   ],
   "metadata": {
    "collapsed": false,
    "ExecuteTime": {
     "end_time": "2023-09-18T13:54:32.389031300Z",
     "start_time": "2023-09-18T13:54:32.384707300Z"
    }
   },
   "id": "4eaa1e0ad888b58"
  },
  {
   "cell_type": "code",
   "execution_count": 5,
   "outputs": [
    {
     "name": "stdout",
     "output_type": "stream",
     "text": [
      "loss at 0 steps: 1.6273772995419464\n",
      "loss at 10 steps: 0.6177459196018674\n",
      "loss at 20 steps: 0.3725761640716881\n",
      "loss at 30 steps: 0.14155501548462024\n",
      "loss at 40 steps: 0.057143758125502576\n",
      "loss at 50 steps: 0.031616621112428085\n",
      "loss at 60 steps: 0.020898875333689157\n",
      "loss at 70 steps: 0.01527768633503116\n",
      "loss at 80 steps: 0.011893110368479518\n",
      "loss at 90 steps: 0.00966025532397293\n"
     ]
    }
   ],
   "source": [
    "for k in range(100):\n",
    "    out = np.array([model.forward(x) for x in xs])\n",
    "    loss = loss_function(out.reshape(-1), ys)\n",
    "    model.zero_grad()\n",
    "    loss.backward()\n",
    "    model.update()\n",
    "    losses.append(loss.data)\n",
    "    if k % 10 == 0: print(f\"loss at {k} steps: {loss.data}\")"
   ],
   "metadata": {
    "collapsed": false,
    "ExecuteTime": {
     "end_time": "2023-09-18T13:54:32.586084300Z",
     "start_time": "2023-09-18T13:54:32.391049300Z"
    }
   },
   "id": "b641744d907ff09f"
  },
  {
   "cell_type": "code",
   "execution_count": 6,
   "outputs": [
    {
     "name": "stdout",
     "output_type": "stream",
     "text": [
      "[Value(data=0.9100281230603099, grad=-0.044985938469845055)\n",
      " Value(data=-0.8936128740386571, grad=0.05319356298067146)\n",
      " Value(data=-0.9346738428041534, grad=0.03266307859792328)\n",
      " Value(data=0.9039840975940674, grad=-0.048007951202966304)]\n"
     ]
    },
    {
     "data": {
      "text/plain": "<Figure size 640x480 with 1 Axes>",
      "image/png": "[encoded data removed]"
     },
     "metadata": {},
     "output_type": "display_data"
    }
   ],
   "source": [
    "draw_dot(loss)\n",
    "plt.plot(losses)\n",
    "print(out.reshape(-1))"
   ],
   "metadata": {
    "collapsed": false,
    "ExecuteTime": {
     "end_time": "2023-09-18T13:54:32.839756400Z",
     "start_time": "2023-09-18T13:54:32.586084300Z"
    }
   },
   "id": "9e24611a19b702b8"
  }
 ],
 "metadata": {
  "kernelspec": {
   "display_name": "Python 3",
   "language": "python",
   "name": "python3"
  },
  "language_info": {
   "codemirror_mode": {
    "name": "ipython",
    "version": 2
   },
   "file_extension": ".py",
   "mimetype": "text/x-python",
   "name": "python",
   "nbconvert_exporter": "python",
   "pygments_lexer": "ipython2",
   "version": "2.7.6"
  }
 },
 "nbformat": 4,
 "nbformat_minor": 5
}
