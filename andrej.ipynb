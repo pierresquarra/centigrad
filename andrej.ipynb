{
 "cells": [
  {
   "cell_type": "code",
   "execution_count": 8,
   "id": "initial_id",
   "metadata": {
    "collapsed": true,
    "ExecuteTime": {
     "end_time": "2023-09-20T19:30:38.140570100Z",
     "start_time": "2023-09-20T19:30:37.999556800Z"
    }
   },
   "outputs": [],
   "source": [
    "from centigrad.nn import Module, Linear, Tanh\n",
    "from centigrad.losses import MSELoss\n",
    "from centigrad.optim import SGD\n",
    "import numpy as np\n",
    "import matplotlib.pyplot as plt"
   ]
  },
  {
   "cell_type": "markdown",
   "source": [
    "## Make up dataset"
   ],
   "metadata": {
    "collapsed": false
   },
   "id": "21b09fa170fa943"
  },
  {
   "cell_type": "code",
   "execution_count": 9,
   "outputs": [],
   "source": [
    "xs = np.random.randn(4, 3)\n",
    "ys = np.array([1.0, -1.0, -1.0, 1.0]).reshape(4, 1)"
   ],
   "metadata": {
    "collapsed": false,
    "ExecuteTime": {
     "end_time": "2023-09-20T19:30:38.171847600Z",
     "start_time": "2023-09-20T19:30:38.000061700Z"
    }
   },
   "id": "8b2d6e551c631de4"
  },
  {
   "cell_type": "markdown",
   "source": [
    "## Define model"
   ],
   "metadata": {
    "collapsed": false
   },
   "id": "4cebb9888f0867e1"
  },
  {
   "cell_type": "code",
   "execution_count": 10,
   "outputs": [],
   "source": [
    "class BobNet(Module):\n",
    "    def __init__(self):\n",
    "        self.l1 = Linear(3, 4)\n",
    "        self.a1 = Tanh()\n",
    "        self.l2 = Linear(4, 4)\n",
    "        self.a2 = Tanh()\n",
    "        self.l3 = Linear(4, 1)\n",
    "        self.a3 = Tanh()\n",
    "    def forward(self, x):\n",
    "        out = self.l1(x)\n",
    "        out = self.a1(out)\n",
    "        out = self.l2(out)\n",
    "        out = self.a2(out)\n",
    "        out = self.l3(out)\n",
    "        out = self.a3(out)\n",
    "        return out\n",
    "    def parameters(self):\n",
    "        params = []\n",
    "        params.extend(self.l1.parameters())\n",
    "        params.extend(self.l2.parameters())\n",
    "        params.extend(self.l3.parameters())\n",
    "        return params"
   ],
   "metadata": {
    "collapsed": false,
    "ExecuteTime": {
     "end_time": "2023-09-20T19:30:38.198292900Z",
     "start_time": "2023-09-20T19:30:38.009279300Z"
    }
   },
   "id": "1f93b98860d34124"
  },
  {
   "cell_type": "code",
   "execution_count": 11,
   "outputs": [],
   "source": [
    "model = BobNet()\n",
    "loss_function = MSELoss()\n",
    "optim = SGD(model.parameters(), lr=0.1, momentum=0)\n",
    "losses = []"
   ],
   "metadata": {
    "collapsed": false,
    "ExecuteTime": {
     "end_time": "2023-09-20T19:30:38.229953600Z",
     "start_time": "2023-09-20T19:30:38.125554900Z"
    }
   },
   "id": "4eaa1e0ad888b58"
  },
  {
   "cell_type": "markdown",
   "source": [
    "## Training"
   ],
   "metadata": {
    "collapsed": false
   },
   "id": "3f9952726c0982e3"
  },
  {
   "cell_type": "code",
   "execution_count": 12,
   "outputs": [
    {
     "name": "stdout",
     "output_type": "stream",
     "text": [
      "loss after 0 steps: 0.9814211545628913\n",
      "loss after 10 steps: 0.4211119888821809\n",
      "loss after 20 steps: 0.07232323512389036\n",
      "loss after 30 steps: 0.0284867578450034\n",
      "loss after 40 steps: 0.01660410080695559\n",
      "loss after 50 steps: 0.011444362466140992\n",
      "loss after 60 steps: 0.008632059357584569\n",
      "loss after 70 steps: 0.006884032148322799\n",
      "loss after 80 steps: 0.005700883306565433\n",
      "loss after 90 steps: 0.004850873666928359\n"
     ]
    }
   ],
   "source": [
    "for k in range(100):\n",
    "    out = np.array([model(x) for x in xs])\n",
    "    loss = loss_function(out, ys)\n",
    "    losses.append(loss.data)\n",
    "    optim.zero_grad()\n",
    "    loss.backward()\n",
    "    optim.step()\n",
    "    if k % 10 == 0: print(f\"loss after {k} steps: {loss.data}\")"
   ],
   "metadata": {
    "collapsed": false,
    "ExecuteTime": {
     "end_time": "2023-09-20T19:30:38.308264800Z",
     "start_time": "2023-09-20T19:30:38.125554900Z"
    }
   },
   "id": "b641744d907ff09f"
  },
  {
   "cell_type": "markdown",
   "source": [
    "## Results"
   ],
   "metadata": {
    "collapsed": false
   },
   "id": "6cf13111b77b6a52"
  },
  {
   "cell_type": "code",
   "execution_count": 13,
   "outputs": [
    {
     "data": {
      "text/plain": "[<matplotlib.lines.Line2D at 0x2387fc99ed0>]"
     },
     "execution_count": 13,
     "metadata": {},
     "output_type": "execute_result"
    },
    {
     "data": {
      "text/plain": "<Figure size 640x480 with 1 Axes>",
      "image/png": "[encoded data removed]"
     },
     "metadata": {},
     "output_type": "display_data"
    }
   ],
   "source": [
    "plt.plot(losses)"
   ],
   "metadata": {
    "collapsed": false,
    "ExecuteTime": {
     "end_time": "2023-09-20T19:30:38.414499800Z",
     "start_time": "2023-09-20T19:30:38.298252300Z"
    }
   },
   "id": "9e24611a19b702b8"
  }
 ],
 "metadata": {
  "kernelspec": {
   "display_name": "Python 3",
   "language": "python",
   "name": "python3"
  },
  "language_info": {
   "codemirror_mode": {
    "name": "ipython",
    "version": 2
   },
   "file_extension": ".py",
   "mimetype": "text/x-python",
   "name": "python",
   "nbconvert_exporter": "python",
   "pygments_lexer": "ipython2",
   "version": "2.7.6"
  }
 },
 "nbformat": 4,
 "nbformat_minor": 5
}
