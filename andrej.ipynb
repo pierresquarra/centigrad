{
 "cells": [
  {
   "cell_type": "code",
   "execution_count": 1,
   "id": "initial_id",
   "metadata": {
    "collapsed": true,
    "ExecuteTime": {
     "end_time": "2023-09-18T15:17:10.304282400Z",
     "start_time": "2023-09-18T15:17:09.804005400Z"
    }
   },
   "outputs": [],
   "source": [
    "from centigrad.nn import Module, Linear, Tanh\n",
    "from centigrad.losses import MSELoss\n",
    "from utils.trace_graph import draw_dot\n",
    "import numpy as np\n",
    "import matplotlib.pyplot as plt"
   ]
  },
  {
   "cell_type": "markdown",
   "source": [
    "## Make up dataset"
   ],
   "metadata": {
    "collapsed": false
   },
   "id": "21b09fa170fa943"
  },
  {
   "cell_type": "code",
   "execution_count": 2,
   "outputs": [],
   "source": [
    "xs = np.random.randn(4, 3)\n",
    "ys = np.array([1.0, -1.0, -1.0, 1.0])"
   ],
   "metadata": {
    "collapsed": false,
    "ExecuteTime": {
     "end_time": "2023-09-18T15:17:10.307631600Z",
     "start_time": "2023-09-18T15:17:10.299758200Z"
    }
   },
   "id": "8b2d6e551c631de4"
  },
  {
   "cell_type": "markdown",
   "source": [
    "## Define model"
   ],
   "metadata": {
    "collapsed": false
   },
   "id": "4cebb9888f0867e1"
  },
  {
   "cell_type": "code",
   "execution_count": 3,
   "outputs": [],
   "source": [
    "class BobNet(Module):\n",
    "    def __init__(self):\n",
    "        self.l1 = Linear(3, 4, low=-1.0)\n",
    "        self.a1 = Tanh()\n",
    "        self.l2 = Linear(4, 4, low=-1.0)\n",
    "        self.a2 = Tanh()\n",
    "        self.l3 = Linear(4, 1, low=-1.0)\n",
    "        self.a3 = Tanh()\n",
    "    def forward(self, inputs: np.ndarray):\n",
    "        out = self.l1.forward(inputs)\n",
    "        out = self.a1.forward(out)\n",
    "        out = self.l2.forward(out)\n",
    "        out = self.a2.forward(out)\n",
    "        out = self.l3.forward(out)\n",
    "        out = self.a3.forward(out)\n",
    "        return out\n",
    "    def parameters(self):\n",
    "        params = []\n",
    "        params.extend(self.l1.parameters())\n",
    "        params.extend(self.l2.parameters())\n",
    "        params.extend(self.l3.parameters())\n",
    "        return params\n",
    "    def zero_grad(self):\n",
    "        for p in self.parameters():\n",
    "            p.grad = 0.0\n",
    "    def update(self):\n",
    "        for p in model.parameters():\n",
    "            p.data += -0.1 * p.grad"
   ],
   "metadata": {
    "collapsed": false,
    "ExecuteTime": {
     "end_time": "2023-09-18T15:17:10.309155600Z",
     "start_time": "2023-09-18T15:17:10.304282400Z"
    }
   },
   "id": "1f93b98860d34124"
  },
  {
   "cell_type": "code",
   "execution_count": 4,
   "outputs": [],
   "source": [
    "model = BobNet()\n",
    "loss_function = MSELoss()\n",
    "losses = []"
   ],
   "metadata": {
    "collapsed": false,
    "ExecuteTime": {
     "end_time": "2023-09-18T15:17:10.314093500Z",
     "start_time": "2023-09-18T15:17:10.309155600Z"
    }
   },
   "id": "4eaa1e0ad888b58"
  },
  {
   "cell_type": "markdown",
   "source": [
    "## Training"
   ],
   "metadata": {
    "collapsed": false
   },
   "id": "3f9952726c0982e3"
  },
  {
   "cell_type": "code",
   "execution_count": 5,
   "outputs": [
    {
     "name": "stdout",
     "output_type": "stream",
     "text": [
      "loss after 0 steps: 1.7528143656784012\n",
      "loss after 10 steps: 0.474641379741217\n",
      "loss after 20 steps: 0.09748496218905528\n",
      "loss after 30 steps: 0.0423309529901245\n",
      "loss after 40 steps: 0.02552849092572141\n",
      "loss after 50 steps: 0.01787011314107574\n",
      "loss after 60 steps: 0.013590002796563418\n",
      "loss after 70 steps: 0.010889771111286797\n",
      "loss after 80 steps: 0.009044439534323564\n",
      "loss after 90 steps: 0.007709906411959787\n"
     ]
    }
   ],
   "source": [
    "for k in range(100):\n",
    "    out = np.array([model.forward(x) for x in xs]).reshape(-1)\n",
    "    loss = loss_function(out, ys)\n",
    "    losses.append(loss.data)\n",
    "    model.zero_grad()\n",
    "    loss.backward()\n",
    "    model.update()\n",
    "    if k % 10 == 0: print(f\"loss after {k} steps: {loss.data}\")"
   ],
   "metadata": {
    "collapsed": false,
    "ExecuteTime": {
     "end_time": "2023-09-18T15:17:10.550270600Z",
     "start_time": "2023-09-18T15:17:10.314093500Z"
    }
   },
   "id": "b641744d907ff09f"
  },
  {
   "cell_type": "markdown",
   "source": [
    "## Results"
   ],
   "metadata": {
    "collapsed": false
   },
   "id": "6cf13111b77b6a52"
  },
  {
   "cell_type": "code",
   "execution_count": 6,
   "outputs": [
    {
     "name": "stdout",
     "output_type": "stream",
     "text": [
      "[Value(data=0.9074472750708745, grad=-0.04627636246456274)\n",
      " Value(data=-0.8983397760172349, grad=0.05083011199138254)\n",
      " Value(data=-0.9392201274933031, grad=0.03038993625334846)\n",
      " Value(data=0.932358915041586, grad=-0.033820542479207016)]\n"
     ]
    },
    {
     "data": {
      "text/plain": "<Figure size 640x480 with 1 Axes>",
      "image/png": "[encoded data removed]"
     },
     "metadata": {},
     "output_type": "display_data"
    }
   ],
   "source": [
    "draw_dot(loss)\n",
    "plt.plot(losses)\n",
    "print(out)"
   ],
   "metadata": {
    "collapsed": false,
    "ExecuteTime": {
     "end_time": "2023-09-18T15:17:10.815578500Z",
     "start_time": "2023-09-18T15:17:10.546255700Z"
    }
   },
   "id": "9e24611a19b702b8"
  }
 ],
 "metadata": {
  "kernelspec": {
   "display_name": "Python 3",
   "language": "python",
   "name": "python3"
  },
  "language_info": {
   "codemirror_mode": {
    "name": "ipython",
    "version": 2
   },
   "file_extension": ".py",
   "mimetype": "text/x-python",
   "name": "python",
   "nbconvert_exporter": "python",
   "pygments_lexer": "ipython2",
   "version": "2.7.6"
  }
 },
 "nbformat": 4,
 "nbformat_minor": 5
}
