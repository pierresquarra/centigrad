{
 "cells": [
  {
   "cell_type": "code",
   "execution_count": 1,
   "id": "initial_id",
   "metadata": {
    "collapsed": true,
    "ExecuteTime": {
     "end_time": "2023-09-18T11:36:44.187853200Z",
     "start_time": "2023-09-18T11:36:43.827789400Z"
    }
   },
   "outputs": [],
   "source": [
    "from core.new import Module, Linear, Sigmoid, Tanh\n",
    "from core.losses import MSELoss, CrossEntropyLoss\n",
    "import numpy as np\n",
    "import matplotlib.pyplot as plt"
   ]
  },
  {
   "cell_type": "code",
   "execution_count": 2,
   "outputs": [],
   "source": [
    "from graphviz import Digraph\n",
    "\n",
    "def trace(root):\n",
    "  # builds a set of all nodes and edges in a graph\n",
    "  nodes, edges = set(), set()\n",
    "  def build(v):\n",
    "    if v not in nodes:\n",
    "      nodes.add(v)\n",
    "      for child in v._prev:\n",
    "        edges.add((child, v))\n",
    "        build(child)\n",
    "  build(root)\n",
    "  return nodes, edges\n",
    "\n",
    "def draw_dot(root):\n",
    "  dot = Digraph(format='svg', graph_attr={'rankdir': 'LR'}) # LR = left to right\n",
    "  \n",
    "  nodes, edges = trace(root)\n",
    "  for n in nodes:\n",
    "    uid = str(id(n))\n",
    "    # for any value in the graph, create a rectangular ('record') node for it\n",
    "    dot.node(name = uid, label = \"{ %s | data %.4f | grad %.4f }\" % (n.label, n.data, n.grad), shape='record')\n",
    "    if n._op:\n",
    "      # if this value is a result of some operation, create an op node for it\n",
    "      dot.node(name = uid + n._op, label = n._op)\n",
    "      # and connect this node to it\n",
    "      dot.edge(uid + n._op, uid)\n",
    "\n",
    "  for n1, n2 in edges:\n",
    "    # connect n1 to the op node of n2\n",
    "    dot.edge(str(id(n1)), str(id(n2)) + n2._op)\n",
    "\n",
    "  return dot.render(directory='graphs')"
   ],
   "metadata": {
    "collapsed": false,
    "ExecuteTime": {
     "end_time": "2023-09-18T11:36:44.218522Z",
     "start_time": "2023-09-18T11:36:44.187853200Z"
    }
   },
   "id": "319f0ab75f4960ed"
  },
  {
   "cell_type": "code",
   "execution_count": 3,
   "outputs": [],
   "source": [
    "xs = np.array([\n",
    "  [2.0, 3.0, -1.0],\n",
    "  [3.0, -1.0, 0.5],\n",
    "  [0.5, 1.0, 1.0],\n",
    "  [1.0, 1.0, -1.0],\n",
    "])\n",
    "ys = np.array([1.0, -1.0, -1.0, 1.0])"
   ],
   "metadata": {
    "collapsed": false,
    "ExecuteTime": {
     "end_time": "2023-09-18T11:36:44.225666300Z",
     "start_time": "2023-09-18T11:36:44.219027100Z"
    }
   },
   "id": "8b2d6e551c631de4"
  },
  {
   "cell_type": "code",
   "execution_count": 4,
   "outputs": [],
   "source": [
    "class BobNet(Module):\n",
    "    def __init__(self):\n",
    "        self.l1 = Linear(3, 4, low=-1.0)\n",
    "        self.a1 = Tanh()\n",
    "        self.l2 = Linear(4, 4, low=-1.0)\n",
    "        self.a2 = Tanh()\n",
    "        self.l3 = Linear(4, 1, low=-1.0)\n",
    "        self.a3 = Tanh()\n",
    "    def forward(self, inputs: np.ndarray):\n",
    "        out = self.l1.forward(inputs)\n",
    "        out = self.a1.forward(out)\n",
    "        out = self.l2.forward(out)\n",
    "        out = self.a2.forward(out)\n",
    "        out = self.l3.forward(out)\n",
    "        out = self.a3.forward(out)\n",
    "        return out\n",
    "    def parameters(self):\n",
    "        params = []\n",
    "        params.extend(self.l1.parameters())\n",
    "        params.extend(self.l2.parameters())\n",
    "        params.extend(self.l3.parameters())\n",
    "        return params\n",
    "    def zero_grad(self):\n",
    "        for p in self.parameters():\n",
    "            p.grad = 0.0\n",
    "    def update(self):\n",
    "        for p in model.parameters():\n",
    "            p.data += -0.1 * p.grad"
   ],
   "metadata": {
    "collapsed": false,
    "ExecuteTime": {
     "end_time": "2023-09-18T11:36:44.230567400Z",
     "start_time": "2023-09-18T11:36:44.219027100Z"
    }
   },
   "id": "1f93b98860d34124"
  },
  {
   "cell_type": "code",
   "execution_count": 5,
   "outputs": [],
   "source": [
    "model = BobNet()\n",
    "loss_function = MSELoss()\n",
    "losses = []\n",
    "loss = 1000"
   ],
   "metadata": {
    "collapsed": false,
    "ExecuteTime": {
     "end_time": "2023-09-18T11:36:44.230567400Z",
     "start_time": "2023-09-18T11:36:44.227682100Z"
    }
   },
   "id": "4eaa1e0ad888b58"
  },
  {
   "cell_type": "code",
   "execution_count": 6,
   "outputs": [],
   "source": [
    "for k in range(100):\n",
    "    out = np.array([model.forward(x) for x in xs])\n",
    "    loss = loss_function(out.reshape(-1), ys)\n",
    "    model.zero_grad()\n",
    "    loss.backward()\n",
    "    model.update()\n",
    "    losses.append(loss.data)"
   ],
   "metadata": {
    "collapsed": false,
    "ExecuteTime": {
     "end_time": "2023-09-18T11:36:44.424411500Z",
     "start_time": "2023-09-18T11:36:44.230567400Z"
    }
   },
   "id": "b641744d907ff09f"
  },
  {
   "cell_type": "code",
   "execution_count": 7,
   "outputs": [
    {
     "name": "stdout",
     "output_type": "stream",
     "text": [
      "[Value(data=0.9384112873209508, grad=-0.030794356339524598)\n",
      " Value(data=-0.9300792626810797, grad=0.03496036865946017)\n",
      " Value(data=-0.9654588115648401, grad=0.017270594217579927)\n",
      " Value(data=0.9381647006088453, grad=-0.030917649695577365)]\n"
     ]
    },
    {
     "data": {
      "text/plain": "<Figure size 640x480 with 1 Axes>",
      "image/png": "[encoded data removed]"
     },
     "metadata": {},
     "output_type": "display_data"
    }
   ],
   "source": [
    "draw_dot(loss)\n",
    "plt.plot(losses)\n",
    "print(out.reshape(-1))"
   ],
   "metadata": {
    "collapsed": false,
    "ExecuteTime": {
     "end_time": "2023-09-18T11:36:44.844313Z",
     "start_time": "2023-09-18T11:36:44.427426900Z"
    }
   },
   "id": "9e24611a19b702b8"
  }
 ],
 "metadata": {
  "kernelspec": {
   "display_name": "Python 3",
   "language": "python",
   "name": "python3"
  },
  "language_info": {
   "codemirror_mode": {
    "name": "ipython",
    "version": 2
   },
   "file_extension": ".py",
   "mimetype": "text/x-python",
   "name": "python",
   "nbconvert_exporter": "python",
   "pygments_lexer": "ipython2",
   "version": "2.7.6"
  }
 },
 "nbformat": 4,
 "nbformat_minor": 5
}
