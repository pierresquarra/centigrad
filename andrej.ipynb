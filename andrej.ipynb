{
 "cells": [
  {
   "cell_type": "code",
   "execution_count": 1,
   "id": "initial_id",
   "metadata": {
    "collapsed": true,
    "ExecuteTime": {
     "end_time": "2023-09-18T13:50:54.869718300Z",
     "start_time": "2023-09-18T13:50:54.452527700Z"
    }
   },
   "outputs": [],
   "source": [
    "from centigrad.nn import Module, Linear, Tanh\n",
    "from centigrad.losses import MSELoss\n",
    "from utils.trace_graph import draw_dot\n",
    "import numpy as np\n",
    "import matplotlib.pyplot as plt"
   ]
  },
  {
   "cell_type": "code",
   "execution_count": 2,
   "outputs": [],
   "source": [
    "xs = np.random.randn(4, 3)\n",
    "ys = np.array([1.0, -1.0, -1.0, 1.0])"
   ],
   "metadata": {
    "collapsed": false,
    "ExecuteTime": {
     "end_time": "2023-09-18T13:50:54.875021800Z",
     "start_time": "2023-09-18T13:50:54.872320400Z"
    }
   },
   "id": "8b2d6e551c631de4"
  },
  {
   "cell_type": "code",
   "execution_count": 3,
   "outputs": [],
   "source": [
    "class BobNet(Module):\n",
    "    def __init__(self):\n",
    "        self.l1 = Linear(3, 4, low=-1.0)\n",
    "        self.a1 = Tanh()\n",
    "        self.l2 = Linear(4, 4, low=-1.0)\n",
    "        self.a2 = Tanh()\n",
    "        self.l3 = Linear(4, 1, low=-1.0)\n",
    "        self.a3 = Tanh()\n",
    "    def forward(self, inputs: np.ndarray):\n",
    "        out = self.l1.forward(inputs)\n",
    "        out = self.a1.forward(out)\n",
    "        out = self.l2.forward(out)\n",
    "        out = self.a2.forward(out)\n",
    "        out = self.l3.forward(out)\n",
    "        out = self.a3.forward(out)\n",
    "        return out\n",
    "    def parameters(self):\n",
    "        params = []\n",
    "        params.extend(self.l1.parameters())\n",
    "        params.extend(self.l2.parameters())\n",
    "        params.extend(self.l3.parameters())\n",
    "        return params\n",
    "    def zero_grad(self):\n",
    "        for p in self.parameters():\n",
    "            p.grad = 0.0\n",
    "    def update(self):\n",
    "        for p in model.parameters():\n",
    "            p.data += -0.1 * p.grad"
   ],
   "metadata": {
    "collapsed": false,
    "ExecuteTime": {
     "end_time": "2023-09-18T13:50:54.882532300Z",
     "start_time": "2023-09-18T13:50:54.875021800Z"
    }
   },
   "id": "1f93b98860d34124"
  },
  {
   "cell_type": "code",
   "execution_count": 4,
   "outputs": [],
   "source": [
    "model = BobNet()\n",
    "loss_function = MSELoss()\n",
    "losses = []"
   ],
   "metadata": {
    "collapsed": false,
    "ExecuteTime": {
     "end_time": "2023-09-18T13:50:54.888251200Z",
     "start_time": "2023-09-18T13:50:54.885232900Z"
    }
   },
   "id": "4eaa1e0ad888b58"
  },
  {
   "cell_type": "code",
   "execution_count": 5,
   "outputs": [
    {
     "name": "stdout",
     "output_type": "stream",
     "text": [
      "loss at 0 steps: 1.6429083167937781\n",
      "loss at 10 steps: 0.7792013795376203\n",
      "loss at 20 steps: 0.23448903438968924\n",
      "loss at 30 steps: 0.06138797462193016\n",
      "loss at 40 steps: 0.028325534522959307\n",
      "loss at 50 steps: 0.017267817462986147\n",
      "loss at 60 steps: 0.012096816929568932\n",
      "loss at 70 steps: 0.009184922227769576\n",
      "loss at 80 steps: 0.007345129659900861\n",
      "loss at 90 steps: 0.006088827035759241\n"
     ]
    }
   ],
   "source": [
    "for k in range(100):\n",
    "    out = np.array([model.forward(x) for x in xs])\n",
    "    loss = loss_function(out.reshape(-1), ys)\n",
    "    model.zero_grad()\n",
    "    loss.backward()\n",
    "    model.update()\n",
    "    losses.append(loss.data)\n",
    "    if k % 10 == 0: print(f\"loss at {k} steps: {loss.data}\")"
   ],
   "metadata": {
    "collapsed": false,
    "ExecuteTime": {
     "end_time": "2023-09-18T13:50:55.087789100Z",
     "start_time": "2023-09-18T13:50:54.888251200Z"
    }
   },
   "id": "b641744d907ff09f"
  },
  {
   "cell_type": "code",
   "execution_count": 6,
   "outputs": [
    {
     "name": "stdout",
     "output_type": "stream",
     "text": [
      "[Value(data=0.9414102174806593, grad=-0.02929489125967033)\n",
      " Value(data=-0.9221900892995396, grad=0.0389049553502302)\n",
      " Value(data=-0.9208026827859107, grad=0.039598658607044646)\n",
      " Value(data=0.9273077316606322, grad=-0.03634613416968391)]\n"
     ]
    },
    {
     "data": {
      "text/plain": "<Figure size 640x480 with 1 Axes>",
      "image/png": "[encoded data removed]"
     },
     "metadata": {},
     "output_type": "display_data"
    }
   ],
   "source": [
    "draw_dot(loss)\n",
    "plt.plot(losses)\n",
    "print(out.reshape(-1))"
   ],
   "metadata": {
    "collapsed": false,
    "ExecuteTime": {
     "end_time": "2023-09-18T13:50:55.344561200Z",
     "start_time": "2023-09-18T13:50:55.095852100Z"
    }
   },
   "id": "9e24611a19b702b8"
  }
 ],
 "metadata": {
  "kernelspec": {
   "display_name": "Python 3",
   "language": "python",
   "name": "python3"
  },
  "language_info": {
   "codemirror_mode": {
    "name": "ipython",
    "version": 2
   },
   "file_extension": ".py",
   "mimetype": "text/x-python",
   "name": "python",
   "nbconvert_exporter": "python",
   "pygments_lexer": "ipython2",
   "version": "2.7.6"
  }
 },
 "nbformat": 4,
 "nbformat_minor": 5
}
